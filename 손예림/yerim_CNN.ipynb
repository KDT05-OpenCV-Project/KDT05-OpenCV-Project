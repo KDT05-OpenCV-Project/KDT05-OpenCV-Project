{
 "cells": [
  {
   "cell_type": "code",
   "outputs": [],
   "source": [
    "import torch\n",
    "import torchvision\n",
    "import torchvision.transforms as transforms\n",
    "import torch.nn as nn\n",
    "import torch.optim as optim\n"
   ],
   "metadata": {
    "collapsed": false,
    "ExecuteTime": {
     "end_time": "2024-03-27T02:27:32.080188Z",
     "start_time": "2024-03-27T02:27:32.074713Z"
    }
   },
   "id": "237a8e538aaebb3a",
   "execution_count": 75
  },
  {
   "cell_type": "code",
   "execution_count": 76,
   "id": "initial_id",
   "metadata": {
    "collapsed": true,
    "ExecuteTime": {
     "end_time": "2024-03-27T02:35:50.608663Z",
     "start_time": "2024-03-27T02:27:32.081219Z"
    }
   },
   "outputs": [
    {
     "name": "stdout",
     "output_type": "stream",
     "text": [
      "[1,    10] loss: 0.690\n",
      "[1,    20] loss: 0.684\n",
      "[1,    30] loss: 0.680\n",
      "[2,    10] loss: 0.635\n",
      "[2,    20] loss: 0.608\n",
      "[2,    30] loss: 0.586\n",
      "[3,    10] loss: 0.558\n",
      "[3,    20] loss: 0.556\n",
      "[3,    30] loss: 0.536\n",
      "[4,    10] loss: 0.474\n",
      "[4,    20] loss: 0.493\n",
      "[4,    30] loss: 0.507\n",
      "[5,    10] loss: 0.460\n",
      "[5,    20] loss: 0.418\n",
      "[5,    30] loss: 0.438\n",
      "[6,    10] loss: 0.393\n",
      "[6,    20] loss: 0.402\n",
      "[6,    30] loss: 0.373\n",
      "[7,    10] loss: 0.344\n",
      "[7,    20] loss: 0.377\n",
      "[7,    30] loss: 0.345\n",
      "[8,    10] loss: 0.308\n",
      "[8,    20] loss: 0.290\n",
      "[8,    30] loss: 0.327\n",
      "[9,    10] loss: 0.275\n",
      "[9,    20] loss: 0.260\n",
      "[9,    30] loss: 0.279\n",
      "[10,    10] loss: 0.351\n",
      "[10,    20] loss: 0.247\n",
      "[10,    30] loss: 0.222\n",
      "Finished Training\n",
      "Accuracy : 82 %\n"
     ]
    }
   ],
   "source": [
    "# 데이터 준비\n",
    "train_transform = transforms.Compose([\n",
    "    transforms.Resize((50, 50)),\n",
    "    transforms.ToTensor(),\n",
    "    transforms.Normalize(mean=[0.5, 0.5, 0.5], std=[0.5, 0.5, 0.5])\n",
    "])\n",
    "\n",
    "test_transform = transforms.Compose([\n",
    "    transforms.Resize((50, 50)),\n",
    "    transforms.ToTensor(),\n",
    "    transforms.Normalize(mean=[0.5, 0.5, 0.5], std=[0.5, 0.5, 0.5])\n",
    "])\n",
    "\n",
    "train_dataset = torchvision.datasets.ImageFolder(root='../data/img/train', transform=train_transform)\n",
    "train_loader = torch.utils.data.DataLoader(train_dataset, batch_size=32, shuffle=True)\n",
    "\n",
    "test_dataset = torchvision.datasets.ImageFolder(root='../data/img/test', transform=test_transform)\n",
    "test_loader = torch.utils.data.DataLoader(test_dataset, batch_size=32, shuffle=False)\n",
    "\n",
    "# 모델 정의 (간단한 예시)\n",
    "class CNN(nn.Module):\n",
    "    def __init__(self):\n",
    "        super(CNN, self).__init__()\n",
    "        self.conv1 = nn.Conv2d(3, 32, kernel_size=3, padding=1)\n",
    "        self.conv2 = nn.Conv2d(32, 64, kernel_size=3, padding=1)\n",
    "        self.pool = nn.MaxPool2d(2, 2)\n",
    "        self.fc1 = nn.Linear(64 * 56 * 56, 512)\n",
    "        self.fc2 = nn.Linear(512, 1)  # 이진 분류이므로 출력 뉴런을 1로 설정\n",
    "\n",
    "    def forward(self, x):\n",
    "        x = self.pool(torch.relu(self.conv1(x)))\n",
    "        x = self.pool(torch.relu(self.conv2(x)))\n",
    "        x = x.view(-1, 64 * 56 * 56)\n",
    "        x = torch.relu(self.fc1(x))\n",
    "        x = self.fc2(x)  # 이진 분류이므로 시그모이드 활성화 함수를 사용하지 않음\n",
    "        return x\n",
    "\n",
    "# 모델 초기화 및 손실 함수, 옵티마이저 정의\n",
    "device = torch.device(\"cuda\" if torch.cuda.is_available() else \"cpu\")\n",
    "model = CNN().to(device)\n",
    "criterion = nn.BCEWithLogitsLoss()  # 이진 교차 엔트로피 손실 함수\n",
    "criterion = nn.B\n",
    "optimizer = optim.SGD(model.parameters(), lr=0.001, momentum=0.9)\n",
    "\n",
    "# 모델 훈련\n",
    "for epoch in range(10):  # 예시로 10 에폭으로 설정\n",
    "    running_loss = 0.0\n",
    "    for i, data in enumerate(train_loader, 0):\n",
    "        inputs, labels = data[0].to(device), data[1].float().to(device)  # 레이블을 float으로 변환\n",
    "        optimizer.zero_grad()\n",
    "        outputs = model(inputs)\n",
    "        loss = criterion(outputs, labels.unsqueeze(1))  # BCEWithLogitsLoss를 사용하므로 레이블의 shape을 [batch_size, 1]로 만들어줌\n",
    "        loss.backward()\n",
    "        optimizer.step()\n",
    "        running_loss += loss.item()\n",
    "        if i % 10 == 9:  # 10 배치마다 손실 출력\n",
    "            print('[%d, %5d] loss: %.3f' %\n",
    "                  (epoch + 1, i + 1, running_loss / 10))\n",
    "            running_loss = 0.0\n",
    "\n",
    "print('Finished Training')\n",
    "\n",
    "# 모델 평가\n",
    "correct = 0\n",
    "total = 0\n",
    "with torch.no_grad():\n",
    "    for data in test_loader:\n",
    "        images, labels = data[0].to(device), data[1].float().to(device)  # 레이블을 float으로 변환\n",
    "        outputs = model(images)\n",
    "        predicted = (outputs > 0).float()  # outputs가 0보다 크면 1로, 그렇지 않으면 0으로 예측\n",
    "        total += labels.size(0)\n",
    "        correct += (predicted == labels.unsqueeze(1)).sum().item()\n",
    "\n",
    "print('Accuracy : %d %%' % (\n",
    "    100 * correct / total))\n",
    "\n"
   ]
  },
  {
   "cell_type": "code",
   "outputs": [],
   "source": [
    "import torch\n",
    "# 모델 저장\n",
    "torch.save(model.state_dict(), 'best_cnn.pth')"
   ],
   "metadata": {
    "collapsed": false,
    "ExecuteTime": {
     "end_time": "2024-03-27T02:35:51.091051Z",
     "start_time": "2024-03-27T02:35:50.609664Z"
    }
   },
   "id": "10b8b3bd46bbd9eb",
   "execution_count": 77
  },
  {
   "cell_type": "code",
   "outputs": [
    {
     "name": "stdout",
     "output_type": "stream",
     "text": [
      "머핀입니다!\n",
      "Predicted class: chihuahua\n"
     ]
    }
   ],
   "source": [
    "import torchvision.transforms as transforms\n",
    "from torchvision.transforms.functional import to_pil_image\n",
    "import cv2\n",
    "from cnn import CNN  \n",
    "\n",
    "# 모델 저장\n",
    "torch.save(model.state_dict(), 'best_cnn.pth')\n",
    "\n",
    "# 모델 정의\n",
    "model = CNN()\n",
    "model.load_state_dict(torch.load('best_cnn.pth'))  # 저장된 모델을 불러옴\n",
    "model.eval()\n",
    "\n",
    "# 이미지 전처리\n",
    "transform = transforms.Compose([\n",
    "    transforms.Resize((224, 224)),\n",
    "    transforms.ToTensor(),\n",
    "])\n",
    "\n",
    "# 이미지 로드 및 전처리\n",
    "image_path = '../data/img/test/chihuahua/img_0_18.jpg'  \n",
    "image = cv2.imread(image_path)\n",
    "image = cv2.cvtColor(image, cv2.COLOR_BGR2RGB)  # OpenCV는 이미지를 BGR 형식으로 읽어옴 그 후 RGB로 변환\n",
    "img_pil = to_pil_image(image)\n",
    "input_image = transform(img_pil)\n",
    "input_image = input_image.unsqueeze(0) \n",
    "\n",
    "# 모델을 통해 예측 수행\n",
    "with torch.no_grad():\n",
    "    output = model(input_image)\n",
    "    _, predicted = torch.max(output, 1)\n",
    "predicted_prob = torch.softmax(output, dim=1)[0][predicted.item()].item()\n",
    "print(f\"{'치와와' if predicted.item() == 1 else '머핀'}입니다!\")\n",
    "\n",
    "\n",
    "# 예측 결과 해석\n",
    "class_names = ['chihuahua', 'muffin']  # 클래스 레이블을 정의합니다.\n",
    "predicted_class = class_names[predicted.item()]\n",
    "print('Predicted class:', predicted_class)\n"
   ],
   "metadata": {
    "collapsed": false,
    "ExecuteTime": {
     "end_time": "2024-03-27T04:55:58.217069Z",
     "start_time": "2024-03-27T04:55:56.572441Z"
    }
   },
   "id": "699fee6f626eed84",
   "execution_count": 80
  },
  {
   "cell_type": "code",
   "outputs": [
    {
     "name": "stdout",
     "output_type": "stream",
     "text": [
      "Predicted class: muffin (확률: 1.00)\n"
     ]
    }
   ],
   "source": [
    "# 이미지 로드 및 전처리\n",
    "image_path = '../data/img/test/chihuahua/img_0_18.jpg'  # 테스트할 이미지의 경로를 지정합니다.\n",
    "image = cv2.imread(image_path)\n",
    "#image = image.open(image_path)\n",
    "img_pil = to_pil_image(image)\n",
    "input_image = transform(img_pil)\n",
    "input_image = input_image.unsqueeze(0)  # 배치 차원을 추가합니다.\n",
    "\n",
    "# 모델을 통해 예측 수행\n",
    "with torch.no_grad():\n",
    "    output = model(input_image)\n",
    "    probabilities = torch.softmax(output, dim=1)\n",
    "    predicted_class_index = torch.argmax(probabilities, dim=1).item()\n",
    "    predicted_probability = probabilities[0, predicted_class_index].item()\n",
    "    predicted_class = 'chihuahua' if predicted_class_index == 1 else 'muffin'\n",
    "\n",
    "# 예측 결과 출력\n",
    "print(f\"Predicted class: {predicted_class} (확률: {predicted_probability:.2f})\")"
   ],
   "metadata": {
    "collapsed": false,
    "ExecuteTime": {
     "end_time": "2024-03-27T02:35:51.859454Z",
     "start_time": "2024-03-27T02:35:51.809716Z"
    }
   },
   "id": "dda2bd43fb93f88a",
   "execution_count": 79
  },
  {
   "cell_type": "code",
   "outputs": [],
   "source": [],
   "metadata": {
    "collapsed": false,
    "ExecuteTime": {
     "end_time": "2024-03-27T02:35:51.873383Z",
     "start_time": "2024-03-27T02:35:51.860568Z"
    }
   },
   "id": "257a8c82da8feea3",
   "execution_count": 79
  }
 ],
 "metadata": {
  "kernelspec": {
   "display_name": "Python 3",
   "language": "python",
   "name": "python3"
  },
  "language_info": {
   "codemirror_mode": {
    "name": "ipython",
    "version": 2
   },
   "file_extension": ".py",
   "mimetype": "text/x-python",
   "name": "python",
   "nbconvert_exporter": "python",
   "pygments_lexer": "ipython2",
   "version": "2.7.6"
  }
 },
 "nbformat": 4,
 "nbformat_minor": 5
}
