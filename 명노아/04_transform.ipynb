{
 "cells": [
  {
   "cell_type": "code",
   "execution_count": 1,
   "metadata": {},
   "outputs": [
    {
     "name": "stderr",
     "output_type": "stream",
     "text": [
      "c:\\Users\\mathn\\.conda\\envs\\Torch_PY38\\lib\\site-packages\\torchvision\\io\\image.py:13: UserWarning: Failed to load image Python extension: '[WinError 127] 지정된 프로시저를 찾을 수 없습니다'If you don't plan on using image functionality from `torchvision.io`, you can ignore this warning. Otherwise, there might be something wrong with your environment. Did you have `libjpeg` or `libpng` installed before building `torchvision` from source?\n",
      "  warn(\n"
     ]
    }
   ],
   "source": [
    "from torchvision.datasets import ImageFolder\n",
    "import torch\n",
    "import torch.nn as nn\n",
    "import torch.nn.functional as F\n",
    "import torch.optim as optim\n",
    "from torch.utils.data import DataLoader\n",
    "from torchvision.datasets import ImageFolder\n",
    "import torchvision.transforms as transforms\n",
    "import cv2\n",
    "import numpy as np\n",
    "import pandas as pd\n",
    "\n",
    "transform = transforms.Compose([\n",
    "    transforms.Resize((50,50)), \n",
    "    transforms.ToTensor() \n",
    "])\n",
    "\n",
    "data = ImageFolder(root=\"./data\", transform=transform)\n",
    "data2 = ImageFolder(root=\"./data_test\", transform=transform)"
   ]
  },
  {
   "cell_type": "code",
   "execution_count": 2,
   "metadata": {},
   "outputs": [],
   "source": [
    "data_loader = DataLoader(data, batch_size=10, shuffle=True)\n",
    "test_loader = DataLoader(data2, batch_size=8, shuffle=True)"
   ]
  },
  {
   "cell_type": "code",
   "execution_count": 62,
   "metadata": {},
   "outputs": [
    {
     "name": "stdout",
     "output_type": "stream",
     "text": [
      "torch.Size([10, 3, 50, 50]) torch.Size([10])\n"
     ]
    }
   ],
   "source": [
    "images, labels = next(iter(data_loader))\n",
    "print(images.shape, labels.shape) # shape : [개수, 채널 수, 높이, 너비]"
   ]
  },
  {
   "cell_type": "code",
   "execution_count": 63,
   "metadata": {},
   "outputs": [],
   "source": [
    "class Mob_Dog(nn.Module): # 클래스 생성\n",
    "    def __init__(self):\n",
    "        super(Mob_Dog, self).__init__()\n",
    "        self.conv1 = nn.Conv2d(3, 6, 5)\n",
    "        self.pool = nn.MaxPool2d(2, 2)\n",
    "        self.conv2 = nn.Conv2d(6, 16, 5)\n",
    "        self.fc1 = nn.Linear(16 * 9 * 9, 120)\n",
    "        self.fc2 = nn.Linear(120, 84)\n",
    "        self.fc3 = nn.Linear(84, 2)\n",
    "        \n",
    "    def forward(self, x):\n",
    "        x = self.pool(F.relu(self.conv1(x)))\n",
    "        x = self.pool(F.relu(self.conv2(x))) # 두번 컨볼루션 연산 해주기\n",
    "        \n",
    "        \n",
    "        \n",
    "        x = x.view(-1, 16 * 9 * 9)\n",
    "        x = F.relu(self.fc1(x))\n",
    "        x = F.relu(self.fc2(x))\n",
    "        x = self.fc3(x)\n",
    "        return x"
   ]
  },
  {
   "cell_type": "code",
   "execution_count": 64,
   "metadata": {},
   "outputs": [],
   "source": [
    "# 모델 객체 생성, 옵티마이저 생성\n",
    "model = Mob_Dog()\n",
    "criterion = nn.CrossEntropyLoss()\n",
    "optimizer = optim.AdamW(model.parameters(), lr=0.001)"
   ]
  },
  {
   "cell_type": "code",
   "execution_count": 65,
   "metadata": {},
   "outputs": [],
   "source": [
    "def get_accuracy(loader, model):\n",
    "    total=0\n",
    "    correct=0\n",
    "    for data in loader:\n",
    "        images, labels = data\n",
    "        outputs = model(images)\n",
    "        _, predicted = torch.max(outputs.data, 1) # dim=1을 주어 최종 값 계산\n",
    "        total += labels.size(0)\n",
    "        correct += (predicted == labels).sum().item()\n",
    "    return correct / total"
   ]
  },
  {
   "cell_type": "code",
   "execution_count": 66,
   "metadata": {},
   "outputs": [
    {
     "name": "stderr",
     "output_type": "stream",
     "text": [
      "c:\\Users\\mathn\\.conda\\envs\\Torch_PY38\\lib\\site-packages\\torch\\optim\\lr_scheduler.py:28: UserWarning: The verbose parameter is deprecated. Please use get_last_lr() to access the learning rate.\n",
      "  warnings.warn(\"The verbose parameter is deprecated. Please use get_last_lr() \"\n",
      "Epoch [1/10], 횟수 [10/18], Loss: 0.6882: 100%|██████████| 18/18 [00:00<00:00, 37.07it/s]\n"
     ]
    },
    {
     "name": "stdout",
     "output_type": "stream",
     "text": [
      "0 Epoch 종료 후 train_score : 51.13636363636363\n",
      "0 Epoch 종료 후 test_score : 45.67901234567901\n"
     ]
    },
    {
     "name": "stderr",
     "output_type": "stream",
     "text": [
      "Epoch [2/10], 횟수 [10/18], Loss: 0.6572: 100%|██████████| 18/18 [00:00<00:00, 47.70it/s]\n"
     ]
    },
    {
     "name": "stdout",
     "output_type": "stream",
     "text": [
      "1 Epoch 종료 후 train_score : 80.11363636363636\n",
      "1 Epoch 종료 후 test_score : 80.24691358024691\n"
     ]
    },
    {
     "name": "stderr",
     "output_type": "stream",
     "text": [
      "Epoch [3/10], 횟수 [10/18], Loss: 0.5962: 100%|██████████| 18/18 [00:00<00:00, 51.33it/s]\n"
     ]
    },
    {
     "name": "stdout",
     "output_type": "stream",
     "text": [
      "2 Epoch 종료 후 train_score : 59.65909090909091\n",
      "2 Epoch 종료 후 test_score : 59.25925925925925\n"
     ]
    },
    {
     "name": "stderr",
     "output_type": "stream",
     "text": [
      "Epoch [4/10], 횟수 [10/18], Loss: 0.5177: 100%|██████████| 18/18 [00:00<00:00, 51.04it/s]\n"
     ]
    },
    {
     "name": "stdout",
     "output_type": "stream",
     "text": [
      "3 Epoch 종료 후 train_score : 78.4090909090909\n",
      "3 Epoch 종료 후 test_score : 79.01234567901234\n"
     ]
    },
    {
     "name": "stderr",
     "output_type": "stream",
     "text": [
      "Epoch [5/10], 횟수 [10/18], Loss: 0.4712: 100%|██████████| 18/18 [00:00<00:00, 51.25it/s]\n"
     ]
    },
    {
     "name": "stdout",
     "output_type": "stream",
     "text": [
      "4 Epoch 종료 후 train_score : 78.4090909090909\n",
      "4 Epoch 종료 후 test_score : 76.5432098765432\n"
     ]
    },
    {
     "name": "stderr",
     "output_type": "stream",
     "text": [
      "Epoch [6/10], 횟수 [10/18], Loss: 0.5591: 100%|██████████| 18/18 [00:00<00:00, 48.90it/s]\n"
     ]
    },
    {
     "name": "stdout",
     "output_type": "stream",
     "text": [
      "5 Epoch 종료 후 train_score : 77.27272727272727\n",
      "5 Epoch 종료 후 test_score : 75.30864197530865\n"
     ]
    },
    {
     "name": "stderr",
     "output_type": "stream",
     "text": [
      "Epoch [7/10], 횟수 [10/18], Loss: 0.5292: 100%|██████████| 18/18 [00:00<00:00, 48.31it/s]\n"
     ]
    },
    {
     "name": "stdout",
     "output_type": "stream",
     "text": [
      "6 Epoch 종료 후 train_score : 77.27272727272727\n",
      "6 Epoch 종료 후 test_score : 80.24691358024691\n"
     ]
    },
    {
     "name": "stderr",
     "output_type": "stream",
     "text": [
      "Epoch [8/10], 횟수 [10/18], Loss: 0.5087: 100%|██████████| 18/18 [00:00<00:00, 47.85it/s]\n"
     ]
    },
    {
     "name": "stdout",
     "output_type": "stream",
     "text": [
      "7 Epoch 종료 후 train_score : 80.68181818181817\n",
      "7 Epoch 종료 후 test_score : 80.24691358024691\n"
     ]
    },
    {
     "name": "stderr",
     "output_type": "stream",
     "text": [
      "Epoch [9/10], 횟수 [10/18], Loss: 0.4778: 100%|██████████| 18/18 [00:00<00:00, 48.01it/s]\n"
     ]
    },
    {
     "name": "stdout",
     "output_type": "stream",
     "text": [
      "8 Epoch 종료 후 train_score : 78.4090909090909\n",
      "8 Epoch 종료 후 test_score : 82.71604938271605\n"
     ]
    },
    {
     "name": "stderr",
     "output_type": "stream",
     "text": [
      "Epoch [10/10], 횟수 [10/18], Loss: 0.5183: 100%|██████████| 18/18 [00:00<00:00, 47.59it/s]\n"
     ]
    },
    {
     "name": "stdout",
     "output_type": "stream",
     "text": [
      "9 Epoch 종료 후 train_score : 80.11363636363636\n",
      "9 Epoch 종료 후 test_score : 79.01234567901234\n"
     ]
    },
    {
     "name": "stderr",
     "output_type": "stream",
     "text": [
      "Epoch [11/10], 횟수 [10/18], Loss: 0.4535: 100%|██████████| 18/18 [00:00<00:00, 45.91it/s]\n"
     ]
    },
    {
     "name": "stdout",
     "output_type": "stream",
     "text": [
      "10 Epoch 종료 후 train_score : 76.70454545454545\n",
      "10 Epoch 종료 후 test_score : 77.77777777777779\n"
     ]
    },
    {
     "name": "stderr",
     "output_type": "stream",
     "text": [
      "Epoch [12/10], 횟수 [10/18], Loss: 0.5082: 100%|██████████| 18/18 [00:00<00:00, 49.58it/s]\n"
     ]
    },
    {
     "name": "stdout",
     "output_type": "stream",
     "text": [
      "11 Epoch 종료 후 train_score : 73.86363636363636\n",
      "11 Epoch 종료 후 test_score : 71.60493827160494\n"
     ]
    },
    {
     "name": "stderr",
     "output_type": "stream",
     "text": [
      "Epoch [13/10], 횟수 [10/18], Loss: 0.5079: 100%|██████████| 18/18 [00:00<00:00, 50.61it/s]\n"
     ]
    },
    {
     "name": "stdout",
     "output_type": "stream",
     "text": [
      "12 Epoch 종료 후 train_score : 82.38636363636364\n",
      "12 Epoch 종료 후 test_score : 86.41975308641975\n"
     ]
    },
    {
     "name": "stderr",
     "output_type": "stream",
     "text": [
      "Epoch [14/10], 횟수 [10/18], Loss: 0.3928: 100%|██████████| 18/18 [00:00<00:00, 49.86it/s]\n"
     ]
    },
    {
     "name": "stdout",
     "output_type": "stream",
     "text": [
      "13 Epoch 종료 후 train_score : 77.8409090909091\n",
      "13 Epoch 종료 후 test_score : 82.71604938271605\n"
     ]
    },
    {
     "name": "stderr",
     "output_type": "stream",
     "text": [
      "Epoch [15/10], 횟수 [10/18], Loss: 0.4814: 100%|██████████| 18/18 [00:00<00:00, 52.85it/s]\n"
     ]
    },
    {
     "name": "stdout",
     "output_type": "stream",
     "text": [
      "14 Epoch 종료 후 train_score : 77.27272727272727\n",
      "14 Epoch 종료 후 test_score : 72.8395061728395\n"
     ]
    },
    {
     "name": "stderr",
     "output_type": "stream",
     "text": [
      "Epoch [16/10], 횟수 [10/18], Loss: 0.3786: 100%|██████████| 18/18 [00:00<00:00, 48.49it/s]\n"
     ]
    },
    {
     "name": "stdout",
     "output_type": "stream",
     "text": [
      "15 Epoch 종료 후 train_score : 84.0909090909091\n",
      "15 Epoch 종료 후 test_score : 81.48148148148148\n"
     ]
    },
    {
     "name": "stderr",
     "output_type": "stream",
     "text": [
      "Epoch [17/10], 횟수 [10/18], Loss: 0.3717: 100%|██████████| 18/18 [00:00<00:00, 48.50it/s]\n"
     ]
    },
    {
     "name": "stdout",
     "output_type": "stream",
     "text": [
      "16 Epoch 종료 후 train_score : 86.36363636363636\n",
      "16 Epoch 종료 후 test_score : 82.71604938271605\n"
     ]
    },
    {
     "name": "stderr",
     "output_type": "stream",
     "text": [
      "Epoch [18/10], 횟수 [10/18], Loss: 0.3857: 100%|██████████| 18/18 [00:00<00:00, 48.81it/s]\n"
     ]
    },
    {
     "name": "stdout",
     "output_type": "stream",
     "text": [
      "17 Epoch 종료 후 train_score : 86.36363636363636\n",
      "17 Epoch 종료 후 test_score : 82.71604938271605\n"
     ]
    },
    {
     "name": "stderr",
     "output_type": "stream",
     "text": [
      "Epoch [19/10], 횟수 [10/18], Loss: 0.3915: 100%|██████████| 18/18 [00:00<00:00, 42.49it/s]\n"
     ]
    },
    {
     "name": "stdout",
     "output_type": "stream",
     "text": [
      "18 Epoch 종료 후 train_score : 86.36363636363636\n",
      "18 Epoch 종료 후 test_score : 82.71604938271605\n"
     ]
    },
    {
     "name": "stderr",
     "output_type": "stream",
     "text": [
      "Epoch [20/10], 횟수 [10/18], Loss: 0.4468: 100%|██████████| 18/18 [00:00<00:00, 48.99it/s]\n"
     ]
    },
    {
     "name": "stdout",
     "output_type": "stream",
     "text": [
      "19 Epoch 종료 후 train_score : 85.22727272727273\n",
      "19 Epoch 종료 후 test_score : 87.65432098765432\n"
     ]
    },
    {
     "name": "stderr",
     "output_type": "stream",
     "text": [
      "Epoch [21/10], 횟수 [10/18], Loss: 0.3547: 100%|██████████| 18/18 [00:00<00:00, 49.25it/s]\n"
     ]
    },
    {
     "name": "stdout",
     "output_type": "stream",
     "text": [
      "20 Epoch 종료 후 train_score : 85.79545454545455\n",
      "20 Epoch 종료 후 test_score : 85.18518518518519\n"
     ]
    },
    {
     "name": "stderr",
     "output_type": "stream",
     "text": [
      "Epoch [22/10], 횟수 [10/18], Loss: 0.3981: 100%|██████████| 18/18 [00:00<00:00, 47.09it/s]\n"
     ]
    },
    {
     "name": "stdout",
     "output_type": "stream",
     "text": [
      "21 Epoch 종료 후 train_score : 79.54545454545455\n",
      "21 Epoch 종료 후 test_score : 83.9506172839506\n",
      "Early Stopping at : 21 Epoch\n"
     ]
    }
   ],
   "source": [
    "from tqdm import tqdm # 프로그레스 바 생성\n",
    "from torch.optim.lr_scheduler import ReduceLROnPlateau # 스케줄러 생성 \n",
    "scheduler = ReduceLROnPlateau(optimizer, 'min', patience=15, verbose=True)\n",
    "\n",
    "loss_list=[]\n",
    "tas_list=[]\n",
    "tes_list=[]\n",
    "max=0\n",
    "for epoch in range(100): # 10회 반복 \n",
    "    running_loss = 0.0 # 1 epoch당 누적 로스값 \n",
    "    #==================================================================================\n",
    "    pbar = tqdm(enumerate(data_loader), total=len(data_loader)) \n",
    "    for i, data in pbar: # pbar가 데이터 로더 역할 수행\n",
    "        inputs, labels = data\n",
    "        outputs = model(inputs)\n",
    "        loss = criterion(outputs, labels)\n",
    "        optimizer.zero_grad()\n",
    "        loss.backward()\n",
    "        optimizer.step()\n",
    "        \n",
    "        running_loss += loss.item() # 로스 누적 \n",
    "        if i % 10 == 9:\n",
    "            pbar.set_description(f'Epoch [{epoch + 1}/{10}], 횟수 [{i + 1}/{len(data_loader)}], Loss: {running_loss / 10:.4f}')\n",
    "            loss_list.append(running_loss)\n",
    "            running_loss = 0.0\n",
    "    #==================================================================================   \n",
    "    # 모델 평가\n",
    "\n",
    "    with torch.no_grad():\n",
    "        train_accuracy = get_accuracy(data_loader, model)\n",
    "        test_accuracy = get_accuracy(test_loader, model)\n",
    "    print(f'{epoch} Epoch 종료 후 train_score : {(100 * train_accuracy)}')\n",
    "    print(f'{epoch} Epoch 종료 후 test_score : {(100 * test_accuracy)}')\n",
    "    tas_list.append(train_accuracy)\n",
    "    tes_list.append(test_accuracy)\n",
    "    if max < test_accuracy:\n",
    "        max = test_accuracy\n",
    "        torch.save(model.state_dict(), 'model.pth')\n",
    "    \n",
    "    scheduler.step(loss)\n",
    "    if scheduler.num_bad_epochs >= scheduler.patience:\n",
    "        print(f\"Early Stopping at : {epoch} Epoch\")\n",
    "        break"
   ]
  },
  {
   "cell_type": "code",
   "execution_count": 67,
   "metadata": {},
   "outputs": [
    {
     "data": {
      "text/plain": [
       "<function matplotlib.pyplot.ylabel(ylabel, fontdict=None, labelpad=None, *, loc=None, **kwargs)>"
      ]
     },
     "execution_count": 67,
     "metadata": {},
     "output_type": "execute_result"
    },
    {
     "data": {
      "image/png": "[encoded data removed]",
      "text/plain": [
       "<Figure size 640x480 with 1 Axes>"
      ]
     },
     "metadata": {},
     "output_type": "display_data"
    }
   ],
   "source": [
    "import matplotlib.pyplot as plt\n",
    "\n",
    "#plt.plot(loss_list)\n",
    "plt.plot(tas_list)\n",
    "plt.plot(tes_list)\n",
    "plt.grid(True)\n",
    "plt.ylabel"
   ]
  },
  {
   "cell_type": "code",
   "execution_count": 82,
   "metadata": {},
   "outputs": [
    {
     "data": {
      "text/plain": [
       "(tensor([1]), tensor([[-1.3155,  1.4777]]))"
      ]
     },
     "execution_count": 82,
     "metadata": {},
     "output_type": "execute_result"
    }
   ],
   "source": [
    "model = Mob_Dog()\n",
    "model.load_state_dict(torch.load('mob_dog.pth'))\n",
    "model.eval()\n",
    "\n",
    "# 이미지 예측\n",
    "img = cv2.imread('./data/mop_dog/74.jpg')\n",
    "img = cv2.resize(img, (50, 50))\n",
    "img = img / 255.0\n",
    "img = np.transpose(img, (2, 0, 1))\n",
    "img = torch.Tensor(img)\n",
    "img = img.unsqueeze(0)\n",
    "\n",
    "with torch.no_grad():\n",
    "    output = model(img)\n",
    "    _, predicted = torch.max(output.data, 1)\n",
    "predicted, output # 이런 젠장, 걸레라고 나온다 "
   ]
  },
  {
   "cell_type": "code",
   "execution_count": null,
   "metadata": {},
   "outputs": [],
   "source": []
  }
 ],
 "metadata": {
  "kernelspec": {
   "display_name": "Torch_PY38",
   "language": "python",
   "name": "python3"
  },
  "language_info": {
   "codemirror_mode": {
    "name": "ipython",
    "version": 3
   },
   "file_extension": ".py",
   "mimetype": "text/x-python",
   "name": "python",
   "nbconvert_exporter": "python",
   "pygments_lexer": "ipython3",
   "version": "3.8.18"
  }
 },
 "nbformat": 4,
 "nbformat_minor": 2
}
