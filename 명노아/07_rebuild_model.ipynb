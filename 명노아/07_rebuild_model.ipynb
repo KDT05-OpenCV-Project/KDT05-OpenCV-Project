{
 "cells": [
  {
   "cell_type": "code",
   "execution_count": 9,
   "metadata": {},
   "outputs": [],
   "source": [
    "from torchvision.datasets import ImageFolder\n",
    "import torch\n",
    "import torch.nn as nn\n",
    "import torch.nn.functional as F\n",
    "import torch.optim as optim\n",
    "from torch.utils.data import DataLoader\n",
    "from torchvision.datasets import ImageFolder\n",
    "import torchvision.transforms as transforms\n",
    "import cv2\n",
    "import numpy as np\n",
    "import pandas as pd\n",
    "from PIL import Image\n",
    "\n",
    "def apply_adaptive_threshold(img):\n",
    "    # 이미지를 그레이스케일로 변환\n",
    "    gray_img = cv2.cvtColor(np.array(img), cv2.COLOR_RGB2GRAY)\n",
    "    # 적응형 스레시홀딩 적용\n",
    "    th_img = cv2.adaptiveThreshold(gray_img, 255, cv2.ADAPTIVE_THRESH_GAUSSIAN_C, cv2.THRESH_BINARY, 11, 2)\n",
    "    # PIL 이미지로 변환하여 반환\n",
    "    return Image.fromarray(th_img)\n",
    "\n",
    "# 이미지 변환 설정\n",
    "transform = transforms.Compose([\n",
    "    transforms.Resize((50, 50)),  # 이미지 크기를 (50, 50)으로 변경\n",
    "    transforms.Lambda(apply_adaptive_threshold),  # 적응형 스레시홀딩 적용 후 텐서로 변환\n",
    "    transforms.ToTensor()  # 이미지를 텐서로 변환\n",
    "])\n",
    "data = ImageFolder(root=\"./add_data\", transform=transform)\n",
    "data2 = ImageFolder(root=\"./data_test\", transform=transform)"
   ]
  },
  {
   "cell_type": "code",
   "execution_count": 10,
   "metadata": {},
   "outputs": [],
   "source": [
    "data_loader = DataLoader(data, batch_size=10, shuffle=True)\n",
    "test_loader = DataLoader(data2, batch_size=8, shuffle=True)"
   ]
  },
  {
   "cell_type": "code",
   "execution_count": 11,
   "metadata": {},
   "outputs": [
    {
     "name": "stdout",
     "output_type": "stream",
     "text": [
      "torch.Size([10, 1, 50, 50]) torch.Size([10])\n"
     ]
    }
   ],
   "source": [
    "images, labels = next(iter(data_loader))\n",
    "print(images.shape, labels.shape) # shape : [개수, 채널 수, 높이, 너비]"
   ]
  },
  {
   "cell_type": "code",
   "execution_count": 12,
   "metadata": {},
   "outputs": [],
   "source": [
    "class Mob_Dog(nn.Module):\n",
    "    def __init__(self):\n",
    "        super(Mob_Dog, self).__init__()\n",
    "        self.conv1 = nn.Conv2d(1, 6, 5)\n",
    "        self.pool = nn.MaxPool2d(2, 2)\n",
    "        self.conv2 = nn.Conv2d(6, 16, 5)\n",
    "        self.fc1 = nn.Linear(16 * 9 * 9, 120)\n",
    "        self.fc2 = nn.Linear(120, 84)\n",
    "        self.fc3 = nn.Linear(84, 2)\n",
    "        self.dropout = nn.Dropout(p=0.5)  # Dropout 추가\n",
    "        self.batchnorm1 = nn.BatchNorm2d(6)  # Batch Normalization 추가\n",
    "        self.batchnorm2 = nn.BatchNorm2d(16)  # Batch Normalization 추가\n",
    "        self.batchnorm3 = nn.BatchNorm1d(120)  # Batch Normalization 추가\n",
    "        self.batchnorm4 = nn.BatchNorm1d(84)  # Batch Normalization 추가\n",
    "        \n",
    "    def forward(self, x):\n",
    "        x = self.pool(F.relu(self.batchnorm1(self.conv1(x))))\n",
    "        x = self.pool(F.relu(self.batchnorm2(self.conv2(x))))  # Batch Normalization 추가\n",
    "        \n",
    "        x = x.view(-1, 16 * 9 * 9)\n",
    "        x = F.relu(self.batchnorm3(self.fc1(x)))  # Batch Normalization 추가\n",
    "        x = F.relu(self.batchnorm4(self.fc2(x)))  # Batch Normalization 추가\n",
    "        x = self.dropout(x)  # Dropout 추가\n",
    "        x = self.fc3(x)\n",
    "        return x\n"
   ]
  },
  {
   "cell_type": "code",
   "execution_count": 13,
   "metadata": {},
   "outputs": [],
   "source": [
    "# 모델 객체 생성, 옵티마이저 생성\n",
    "model = Mob_Dog()\n",
    "criterion = nn.CrossEntropyLoss()\n",
    "optimizer = optim.AdamW(model.parameters(), lr=0.001)"
   ]
  },
  {
   "cell_type": "code",
   "execution_count": 14,
   "metadata": {},
   "outputs": [],
   "source": [
    "def get_accuracy(loader, model):\n",
    "    total=0\n",
    "    correct=0\n",
    "    for data in loader:\n",
    "        images, labels = data\n",
    "        outputs = model(images)\n",
    "        _, predicted = torch.max(outputs.data, 1) # dim=1을 주어 최종 값 계산\n",
    "        total += labels.size(0)\n",
    "        correct += (predicted == labels).sum().item()\n",
    "    return correct / total"
   ]
  },
  {
   "cell_type": "code",
   "execution_count": 15,
   "metadata": {},
   "outputs": [
    {
     "name": "stderr",
     "output_type": "stream",
     "text": [
      "Epoch [1/10], 횟수 [40/43], Loss: 0.4644: 100%|██████████| 43/43 [00:01<00:00, 38.39it/s]\n"
     ]
    },
    {
     "name": "stdout",
     "output_type": "stream",
     "text": [
      "0 Epoch 종료 후 train_score : 84.59715639810426\n",
      "0 Epoch 종료 후 test_score : 63.04347826086957\n"
     ]
    },
    {
     "name": "stderr",
     "output_type": "stream",
     "text": [
      "Epoch [2/10], 횟수 [40/43], Loss: 0.3437: 100%|██████████| 43/43 [00:00<00:00, 43.95it/s]\n"
     ]
    },
    {
     "name": "stdout",
     "output_type": "stream",
     "text": [
      "1 Epoch 종료 후 train_score : 91.9431279620853\n",
      "1 Epoch 종료 후 test_score : 61.95652173913043\n"
     ]
    },
    {
     "name": "stderr",
     "output_type": "stream",
     "text": [
      "Epoch [3/10], 횟수 [40/43], Loss: 0.2762: 100%|██████████| 43/43 [00:00<00:00, 44.13it/s]\n"
     ]
    },
    {
     "name": "stdout",
     "output_type": "stream",
     "text": [
      "2 Epoch 종료 후 train_score : 95.02369668246445\n",
      "2 Epoch 종료 후 test_score : 63.04347826086957\n"
     ]
    },
    {
     "name": "stderr",
     "output_type": "stream",
     "text": [
      "Epoch [4/10], 횟수 [40/43], Loss: 0.1758: 100%|██████████| 43/43 [00:01<00:00, 41.81it/s]\n"
     ]
    },
    {
     "name": "stdout",
     "output_type": "stream",
     "text": [
      "3 Epoch 종료 후 train_score : 97.1563981042654\n",
      "3 Epoch 종료 후 test_score : 59.78260869565217\n"
     ]
    },
    {
     "name": "stderr",
     "output_type": "stream",
     "text": [
      "Epoch [5/10], 횟수 [40/43], Loss: 0.0862: 100%|██████████| 43/43 [00:00<00:00, 44.19it/s]\n"
     ]
    },
    {
     "name": "stdout",
     "output_type": "stream",
     "text": [
      "4 Epoch 종료 후 train_score : 98.81516587677726\n",
      "4 Epoch 종료 후 test_score : 57.608695652173914\n"
     ]
    },
    {
     "name": "stderr",
     "output_type": "stream",
     "text": [
      "Epoch [6/10], 횟수 [40/43], Loss: 0.0666: 100%|██████████| 43/43 [00:00<00:00, 46.47it/s]\n"
     ]
    },
    {
     "name": "stdout",
     "output_type": "stream",
     "text": [
      "5 Epoch 종료 후 train_score : 97.86729857819904\n",
      "5 Epoch 종료 후 test_score : 63.04347826086957\n"
     ]
    },
    {
     "name": "stderr",
     "output_type": "stream",
     "text": [
      "Epoch [7/10], 횟수 [40/43], Loss: 0.0518: 100%|██████████| 43/43 [00:00<00:00, 46.16it/s]\n"
     ]
    },
    {
     "name": "stdout",
     "output_type": "stream",
     "text": [
      "6 Epoch 종료 후 train_score : 97.39336492890996\n",
      "6 Epoch 종료 후 test_score : 66.30434782608695\n"
     ]
    },
    {
     "name": "stderr",
     "output_type": "stream",
     "text": [
      "Epoch [8/10], 횟수 [40/43], Loss: 0.0394: 100%|██████████| 43/43 [00:00<00:00, 45.19it/s]\n"
     ]
    },
    {
     "name": "stdout",
     "output_type": "stream",
     "text": [
      "7 Epoch 종료 후 train_score : 96.91943127962085\n",
      "7 Epoch 종료 후 test_score : 64.13043478260869\n"
     ]
    },
    {
     "name": "stderr",
     "output_type": "stream",
     "text": [
      "Epoch [9/10], 횟수 [40/43], Loss: 0.0259: 100%|██████████| 43/43 [00:01<00:00, 42.02it/s]\n"
     ]
    },
    {
     "name": "stdout",
     "output_type": "stream",
     "text": [
      "8 Epoch 종료 후 train_score : 98.10426540284361\n",
      "8 Epoch 종료 후 test_score : 61.95652173913043\n"
     ]
    },
    {
     "name": "stderr",
     "output_type": "stream",
     "text": [
      "Epoch [10/10], 횟수 [40/43], Loss: 0.0272: 100%|██████████| 43/43 [00:00<00:00, 44.19it/s]\n"
     ]
    },
    {
     "name": "stdout",
     "output_type": "stream",
     "text": [
      "9 Epoch 종료 후 train_score : 98.81516587677726\n",
      "9 Epoch 종료 후 test_score : 64.13043478260869\n"
     ]
    },
    {
     "name": "stderr",
     "output_type": "stream",
     "text": [
      "Epoch [11/10], 횟수 [40/43], Loss: 0.0380: 100%|██████████| 43/43 [00:00<00:00, 43.99it/s]\n"
     ]
    },
    {
     "name": "stdout",
     "output_type": "stream",
     "text": [
      "10 Epoch 종료 후 train_score : 98.34123222748815\n",
      "10 Epoch 종료 후 test_score : 67.3913043478261\n"
     ]
    },
    {
     "name": "stderr",
     "output_type": "stream",
     "text": [
      "Epoch [12/10], 횟수 [40/43], Loss: 0.1191: 100%|██████████| 43/43 [00:00<00:00, 45.72it/s]\n"
     ]
    },
    {
     "name": "stdout",
     "output_type": "stream",
     "text": [
      "11 Epoch 종료 후 train_score : 96.91943127962085\n",
      "11 Epoch 종료 후 test_score : 68.47826086956522\n"
     ]
    },
    {
     "name": "stderr",
     "output_type": "stream",
     "text": [
      "Epoch [13/10], 횟수 [40/43], Loss: 0.1524: 100%|██████████| 43/43 [00:00<00:00, 45.15it/s]\n"
     ]
    },
    {
     "name": "stdout",
     "output_type": "stream",
     "text": [
      "12 Epoch 종료 후 train_score : 96.44549763033176\n",
      "12 Epoch 종료 후 test_score : 68.47826086956522\n"
     ]
    },
    {
     "name": "stderr",
     "output_type": "stream",
     "text": [
      "Epoch [14/10], 횟수 [40/43], Loss: 0.0647: 100%|██████████| 43/43 [00:00<00:00, 46.55it/s]\n"
     ]
    },
    {
     "name": "stdout",
     "output_type": "stream",
     "text": [
      "13 Epoch 종료 후 train_score : 96.6824644549763\n",
      "13 Epoch 종료 후 test_score : 73.91304347826086\n"
     ]
    },
    {
     "name": "stderr",
     "output_type": "stream",
     "text": [
      "Epoch [15/10], 횟수 [40/43], Loss: 0.0357: 100%|██████████| 43/43 [00:00<00:00, 46.40it/s]\n"
     ]
    },
    {
     "name": "stdout",
     "output_type": "stream",
     "text": [
      "14 Epoch 종료 후 train_score : 97.39336492890996\n",
      "14 Epoch 종료 후 test_score : 66.30434782608695\n"
     ]
    },
    {
     "name": "stderr",
     "output_type": "stream",
     "text": [
      "Epoch [16/10], 횟수 [40/43], Loss: 0.3643: 100%|██████████| 43/43 [00:00<00:00, 46.36it/s]\n"
     ]
    },
    {
     "name": "stdout",
     "output_type": "stream",
     "text": [
      "15 Epoch 종료 후 train_score : 96.44549763033176\n",
      "15 Epoch 종료 후 test_score : 71.73913043478261\n"
     ]
    },
    {
     "name": "stderr",
     "output_type": "stream",
     "text": [
      "Epoch [17/10], 횟수 [40/43], Loss: 0.1597: 100%|██████████| 43/43 [00:00<00:00, 45.57it/s]\n"
     ]
    },
    {
     "name": "stdout",
     "output_type": "stream",
     "text": [
      "16 Epoch 종료 후 train_score : 95.02369668246445\n",
      "16 Epoch 종료 후 test_score : 67.3913043478261\n"
     ]
    },
    {
     "name": "stderr",
     "output_type": "stream",
     "text": [
      "Epoch [18/10], 횟수 [40/43], Loss: 0.1539: 100%|██████████| 43/43 [00:00<00:00, 45.31it/s]\n"
     ]
    },
    {
     "name": "stdout",
     "output_type": "stream",
     "text": [
      "17 Epoch 종료 후 train_score : 98.5781990521327\n",
      "17 Epoch 종료 후 test_score : 72.82608695652173\n"
     ]
    },
    {
     "name": "stderr",
     "output_type": "stream",
     "text": [
      "Epoch [19/10], 횟수 [40/43], Loss: 0.0754: 100%|██████████| 43/43 [00:00<00:00, 45.34it/s]\n"
     ]
    },
    {
     "name": "stdout",
     "output_type": "stream",
     "text": [
      "18 Epoch 종료 후 train_score : 95.73459715639811\n",
      "18 Epoch 종료 후 test_score : 73.91304347826086\n"
     ]
    },
    {
     "name": "stderr",
     "output_type": "stream",
     "text": [
      "Epoch [20/10], 횟수 [40/43], Loss: 0.1112: 100%|██████████| 43/43 [00:00<00:00, 44.85it/s]\n"
     ]
    },
    {
     "name": "stdout",
     "output_type": "stream",
     "text": [
      "19 Epoch 종료 후 train_score : 98.34123222748815\n",
      "19 Epoch 종료 후 test_score : 72.82608695652173\n"
     ]
    },
    {
     "name": "stderr",
     "output_type": "stream",
     "text": [
      "Epoch [21/10], 횟수 [40/43], Loss: 0.0456: 100%|██████████| 43/43 [00:00<00:00, 43.79it/s]\n"
     ]
    },
    {
     "name": "stdout",
     "output_type": "stream",
     "text": [
      "20 Epoch 종료 후 train_score : 99.0521327014218\n",
      "20 Epoch 종료 후 test_score : 72.82608695652173\n"
     ]
    },
    {
     "name": "stderr",
     "output_type": "stream",
     "text": [
      "Epoch [22/10], 횟수 [40/43], Loss: 0.0142: 100%|██████████| 43/43 [00:00<00:00, 45.18it/s]\n"
     ]
    },
    {
     "name": "stdout",
     "output_type": "stream",
     "text": [
      "21 Epoch 종료 후 train_score : 98.81516587677726\n",
      "21 Epoch 종료 후 test_score : 68.47826086956522\n"
     ]
    },
    {
     "name": "stderr",
     "output_type": "stream",
     "text": [
      "Epoch [23/10], 횟수 [40/43], Loss: 0.0829: 100%|██████████| 43/43 [00:00<00:00, 43.58it/s]\n"
     ]
    },
    {
     "name": "stdout",
     "output_type": "stream",
     "text": [
      "22 Epoch 종료 후 train_score : 98.10426540284361\n",
      "22 Epoch 종료 후 test_score : 73.91304347826086\n"
     ]
    },
    {
     "name": "stderr",
     "output_type": "stream",
     "text": [
      "Epoch [24/10], 횟수 [40/43], Loss: 0.0136: 100%|██████████| 43/43 [00:00<00:00, 43.38it/s]\n"
     ]
    },
    {
     "name": "stdout",
     "output_type": "stream",
     "text": [
      "23 Epoch 종료 후 train_score : 99.52606635071089\n",
      "23 Epoch 종료 후 test_score : 75.0\n"
     ]
    },
    {
     "name": "stderr",
     "output_type": "stream",
     "text": [
      "Epoch [25/10], 횟수 [40/43], Loss: 0.0217: 100%|██████████| 43/43 [00:01<00:00, 42.24it/s]\n"
     ]
    },
    {
     "name": "stdout",
     "output_type": "stream",
     "text": [
      "24 Epoch 종료 후 train_score : 100.0\n",
      "24 Epoch 종료 후 test_score : 77.17391304347827\n"
     ]
    },
    {
     "name": "stderr",
     "output_type": "stream",
     "text": [
      "Epoch [26/10], 횟수 [40/43], Loss: 0.0735: 100%|██████████| 43/43 [00:01<00:00, 41.37it/s]\n"
     ]
    },
    {
     "name": "stdout",
     "output_type": "stream",
     "text": [
      "25 Epoch 종료 후 train_score : 99.76303317535546\n",
      "25 Epoch 종료 후 test_score : 76.08695652173914\n"
     ]
    },
    {
     "name": "stderr",
     "output_type": "stream",
     "text": [
      "Epoch [27/10], 횟수 [40/43], Loss: 0.0529: 100%|██████████| 43/43 [00:01<00:00, 38.50it/s]\n"
     ]
    },
    {
     "name": "stdout",
     "output_type": "stream",
     "text": [
      "26 Epoch 종료 후 train_score : 99.0521327014218\n",
      "26 Epoch 종료 후 test_score : 77.17391304347827\n"
     ]
    },
    {
     "name": "stderr",
     "output_type": "stream",
     "text": [
      "Epoch [28/10], 횟수 [40/43], Loss: 0.0180: 100%|██████████| 43/43 [00:01<00:00, 38.73it/s]\n"
     ]
    },
    {
     "name": "stdout",
     "output_type": "stream",
     "text": [
      "27 Epoch 종료 후 train_score : 98.34123222748815\n",
      "27 Epoch 종료 후 test_score : 65.21739130434783\n",
      "Early Stopping at : 27 Epoch\n"
     ]
    }
   ],
   "source": [
    "from tqdm import tqdm # 프로그레스 바 생성\n",
    "from torch.optim.lr_scheduler import ReduceLROnPlateau # 스케줄러 생성 \n",
    "scheduler = ReduceLROnPlateau(optimizer, 'min', patience=15, verbose=True)\n",
    "\n",
    "loss_list=[]\n",
    "tas_list=[]\n",
    "tes_list=[]\n",
    "max=0\n",
    "for epoch in range(100): # 10회 반복 \n",
    "    running_loss = 0.0 # 1 epoch당 누적 로스값 \n",
    "    #==================================================================================\n",
    "    pbar = tqdm(enumerate(data_loader), total=len(data_loader)) \n",
    "    for i, data in pbar: # pbar가 데이터 로더 역할 수행\n",
    "        inputs, labels = data\n",
    "        outputs = model(inputs)\n",
    "        loss = criterion(outputs, labels)\n",
    "        optimizer.zero_grad()\n",
    "        loss.backward()\n",
    "        optimizer.step()\n",
    "        \n",
    "        running_loss += loss.item() # 로스 누적 \n",
    "        if i % 10 == 9:\n",
    "            pbar.set_description(f'Epoch [{epoch + 1}/{10}], 횟수 [{i + 1}/{len(data_loader)}], Loss: {running_loss / 10:.4f}')\n",
    "            loss_list.append(running_loss)\n",
    "            running_loss = 0.0\n",
    "    #==================================================================================   \n",
    "    # 모델 평가\n",
    "\n",
    "    with torch.no_grad():\n",
    "        train_accuracy = get_accuracy(data_loader, model)\n",
    "        test_accuracy = get_accuracy(test_loader, model)\n",
    "    print(f'{epoch} Epoch 종료 후 train_score : {(100 * train_accuracy)}')\n",
    "    print(f'{epoch} Epoch 종료 후 test_score : {(100 * test_accuracy)}')\n",
    "    tas_list.append(train_accuracy)\n",
    "    tes_list.append(test_accuracy)\n",
    "    if max < test_accuracy:\n",
    "        max = test_accuracy\n",
    "        torch.save(model, 'model.pth')\n",
    "    \n",
    "    scheduler.step(loss)\n",
    "    if scheduler.num_bad_epochs >= scheduler.patience:\n",
    "        print(f\"Early Stopping at : {epoch} Epoch\")\n",
    "        break"
   ]
  },
  {
   "cell_type": "code",
   "execution_count": 16,
   "metadata": {},
   "outputs": [
    {
     "data": {
      "text/plain": [
       "<function matplotlib.pyplot.ylabel(ylabel, fontdict=None, labelpad=None, *, loc=None, **kwargs)>"
      ]
     },
     "execution_count": 16,
     "metadata": {},
     "output_type": "execute_result"
    },
    {
     "data": {
      "image/png": "[encoded data removed]",
      "text/plain": [
       "<Figure size 640x480 with 1 Axes>"
      ]
     },
     "metadata": {},
     "output_type": "display_data"
    }
   ],
   "source": [
    "import matplotlib.pyplot as plt\n",
    "\n",
    "#plt.plot(loss_list)\n",
    "plt.plot(tas_list, label=\"train\")\n",
    "plt.plot(tes_list, label=\"test\")\n",
    "plt.plot(np.array(tas_list)-np.array(tes_list), label=\"diff\")\n",
    "plt.grid(True)\n",
    "plt.legend()\n",
    "plt.ylabel"
   ]
  },
  {
   "cell_type": "code",
   "execution_count": 17,
   "metadata": {},
   "outputs": [],
   "source": [
    "# 확실히 높아진 성능을 자랑한다...."
   ]
  },
  {
   "cell_type": "code",
   "execution_count": 18,
   "metadata": {},
   "outputs": [
    {
     "ename": "TypeError",
     "evalue": "Expected state_dict to be dict-like, got <class '__main__.Mob_Dog'>.",
     "output_type": "error",
     "traceback": [
      "\u001b[1;31m---------------------------------------------------------------------------\u001b[0m",
      "\u001b[1;31mTypeError\u001b[0m                                 Traceback (most recent call last)",
      "Cell \u001b[1;32mIn[18], line 2\u001b[0m\n\u001b[0;32m      1\u001b[0m model \u001b[38;5;241m=\u001b[39m Mob_Dog()\n\u001b[1;32m----> 2\u001b[0m \u001b[43mmodel\u001b[49m\u001b[38;5;241;43m.\u001b[39;49m\u001b[43mload_state_dict\u001b[49m\u001b[43m(\u001b[49m\u001b[43mtorch\u001b[49m\u001b[38;5;241;43m.\u001b[39;49m\u001b[43mload\u001b[49m\u001b[43m(\u001b[49m\u001b[38;5;124;43m'\u001b[39;49m\u001b[38;5;124;43mmodel.pth\u001b[39;49m\u001b[38;5;124;43m'\u001b[39;49m\u001b[43m)\u001b[49m\u001b[43m)\u001b[49m\n\u001b[0;32m      3\u001b[0m model\u001b[38;5;241m.\u001b[39meval()\n\u001b[0;32m      5\u001b[0m \u001b[38;5;66;03m# 이미지 예측\u001b[39;00m\n",
      "File \u001b[1;32mc:\\Users\\mathn\\.conda\\envs\\Torch_PY38\\lib\\site-packages\\torch\\nn\\modules\\module.py:2104\u001b[0m, in \u001b[0;36mModule.load_state_dict\u001b[1;34m(self, state_dict, strict, assign)\u001b[0m\n\u001b[0;32m   2069\u001b[0m \u001b[38;5;250m\u001b[39m\u001b[38;5;124mr\u001b[39m\u001b[38;5;124;03m\"\"\"Copy parameters and buffers from :attr:`state_dict` into this module and its descendants.\u001b[39;00m\n\u001b[0;32m   2070\u001b[0m \n\u001b[0;32m   2071\u001b[0m \u001b[38;5;124;03mIf :attr:`strict` is ``True``, then\u001b[39;00m\n\u001b[1;32m   (...)\u001b[0m\n\u001b[0;32m   2101\u001b[0m \u001b[38;5;124;03m    ``RuntimeError``.\u001b[39;00m\n\u001b[0;32m   2102\u001b[0m \u001b[38;5;124;03m\"\"\"\u001b[39;00m\n\u001b[0;32m   2103\u001b[0m \u001b[38;5;28;01mif\u001b[39;00m \u001b[38;5;129;01mnot\u001b[39;00m \u001b[38;5;28misinstance\u001b[39m(state_dict, Mapping):\n\u001b[1;32m-> 2104\u001b[0m     \u001b[38;5;28;01mraise\u001b[39;00m \u001b[38;5;167;01mTypeError\u001b[39;00m(\u001b[38;5;124mf\u001b[39m\u001b[38;5;124m\"\u001b[39m\u001b[38;5;124mExpected state_dict to be dict-like, got \u001b[39m\u001b[38;5;132;01m{\u001b[39;00m\u001b[38;5;28mtype\u001b[39m(state_dict)\u001b[38;5;132;01m}\u001b[39;00m\u001b[38;5;124m.\u001b[39m\u001b[38;5;124m\"\u001b[39m)\n\u001b[0;32m   2106\u001b[0m missing_keys: List[\u001b[38;5;28mstr\u001b[39m] \u001b[38;5;241m=\u001b[39m []\n\u001b[0;32m   2107\u001b[0m unexpected_keys: List[\u001b[38;5;28mstr\u001b[39m] \u001b[38;5;241m=\u001b[39m []\n",
      "\u001b[1;31mTypeError\u001b[0m: Expected state_dict to be dict-like, got <class '__main__.Mob_Dog'>."
     ]
    }
   ],
   "source": [
    "model = Mob_Dog()\n",
    "model.load_state_dict(torch.load('model.pth'))\n",
    "model.eval()\n",
    "\n",
    "# 이미지 예측\n",
    "img = cv2.imread('./data/mop_dog/74.jpg', cv2.IMREAD_GRAYSCALE)\n",
    "img = cv2.resize(img, (50, 50))\n",
    "img = img / 255.0\n",
    "img = torch.Tensor(img)\n",
    "img = img.unsqueeze(0).unsqueeze(1)\n",
    "\n",
    "with torch.no_grad():\n",
    "    output = model(img)\n",
    "    _, predicted = torch.max(output.data, 1)\n",
    "predicted, output # 예측도 슬슬,,,잘 나온다!"
   ]
  },
  {
   "cell_type": "code",
   "execution_count": null,
   "metadata": {},
   "outputs": [],
   "source": [
    "# 추가적으로 데이터셋을 늘려보고, 정규화와 이퀄라이즈, Clahe를 사용해보자! "
   ]
  }
 ],
 "metadata": {
  "kernelspec": {
   "display_name": "Torch_PY38",
   "language": "python",
   "name": "python3"
  },
  "language_info": {
   "codemirror_mode": {
    "name": "ipython",
    "version": 3
   },
   "file_extension": ".py",
   "mimetype": "text/x-python",
   "name": "python",
   "nbconvert_exporter": "python",
   "pygments_lexer": "ipython3",
   "version": "3.8.18"
  }
 },
 "nbformat": 4,
 "nbformat_minor": 2
}
