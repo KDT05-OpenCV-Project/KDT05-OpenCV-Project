{
 "cells": [
  {
   "cell_type": "code",
   "execution_count": 29,
   "metadata": {},
   "outputs": [],
   "source": [
    "from torchvision.datasets import ImageFolder\n",
    "import torch\n",
    "import torch.nn as nn\n",
    "import torch.nn.functional as F\n",
    "import torch.optim as optim\n",
    "from torch.utils.data import DataLoader\n",
    "from torchvision.datasets import ImageFolder\n",
    "import torchvision.transforms as transforms\n",
    "import cv2\n",
    "import numpy as np\n",
    "import pandas as pd\n",
    "from PIL import Image\n",
    "\n",
    "def apply_adaptive_threshold(img):\n",
    "    # 이미지를 그레이스케일로 변환\n",
    "    gray_img = cv2.cvtColor(np.array(img), cv2.COLOR_RGB2GRAY)\n",
    "    # 적응형 스레시홀딩 적용\n",
    "    th_img = cv2.adaptiveThreshold(gray_img, 255, cv2.ADAPTIVE_THRESH_GAUSSIAN_C, cv2.THRESH_BINARY, 11, 2)\n",
    "    # PIL 이미지로 변환하여 반환\n",
    "    return Image.fromarray(th_img)\n",
    "\n",
    "# 이미지 변환 설정\n",
    "transform = transforms.Compose([\n",
    "    transforms.Resize((50, 50)),  # 이미지 크기를 (50, 50)으로 변경\n",
    "    transforms.Lambda(apply_adaptive_threshold),  # 적응형 스레시홀딩 적용 후 텐서로 변환\n",
    "    transforms.ToTensor()  # 이미지를 텐서로 변환\n",
    "])\n",
    "data = ImageFolder(root=\"./data\", transform=transform)\n",
    "data2 = ImageFolder(root=\"./data_test\", transform=transform)"
   ]
  },
  {
   "cell_type": "code",
   "execution_count": 30,
   "metadata": {},
   "outputs": [],
   "source": [
    "data_loader = DataLoader(data, batch_size=10, shuffle=True)\n",
    "test_loader = DataLoader(data2, batch_size=8, shuffle=True)"
   ]
  },
  {
   "cell_type": "code",
   "execution_count": 31,
   "metadata": {},
   "outputs": [
    {
     "name": "stdout",
     "output_type": "stream",
     "text": [
      "torch.Size([10, 1, 50, 50]) torch.Size([10])\n"
     ]
    }
   ],
   "source": [
    "images, labels = next(iter(data_loader))\n",
    "print(images.shape, labels.shape) # shape : [개수, 채널 수, 높이, 너비]"
   ]
  },
  {
   "cell_type": "code",
   "execution_count": 32,
   "metadata": {},
   "outputs": [],
   "source": [
    "class Mob_Dog(nn.Module): # 클래스 생성\n",
    "    def __init__(self):\n",
    "        super(Mob_Dog, self).__init__()\n",
    "        self.conv1 = nn.Conv2d(1, 6, 5)\n",
    "        self.pool = nn.MaxPool2d(2, 2)\n",
    "        self.conv2 = nn.Conv2d(6, 16, 5)\n",
    "        self.fc1 = nn.Linear(16 * 9 * 9, 120)\n",
    "        self.fc2 = nn.Linear(120, 84)\n",
    "        self.fc3 = nn.Linear(84, 2)\n",
    "        \n",
    "    def forward(self, x):\n",
    "        x = self.pool(F.relu(self.conv1(x)))\n",
    "        x = self.pool(F.relu(self.conv2(x))) # 두번 컨볼루션 연산 해주기\n",
    "        \n",
    "        \n",
    "        \n",
    "        x = x.view(-1, 16 * 9 * 9)\n",
    "        x = F.relu(self.fc1(x))\n",
    "        x = F.relu(self.fc2(x))\n",
    "        x = self.fc3(x)\n",
    "        return x"
   ]
  },
  {
   "cell_type": "code",
   "execution_count": 33,
   "metadata": {},
   "outputs": [],
   "source": [
    "# 모델 객체 생성, 옵티마이저 생성\n",
    "model = Mob_Dog()\n",
    "criterion = nn.CrossEntropyLoss()\n",
    "optimizer = optim.AdamW(model.parameters(), lr=0.001)"
   ]
  },
  {
   "cell_type": "code",
   "execution_count": 34,
   "metadata": {},
   "outputs": [],
   "source": [
    "def get_accuracy(loader, model):\n",
    "    total=0\n",
    "    correct=0\n",
    "    for data in loader:\n",
    "        images, labels = data\n",
    "        outputs = model(images)\n",
    "        _, predicted = torch.max(outputs.data, 1) # dim=1을 주어 최종 값 계산\n",
    "        total += labels.size(0)\n",
    "        correct += (predicted == labels).sum().item()\n",
    "    return correct / total"
   ]
  },
  {
   "cell_type": "code",
   "execution_count": 35,
   "metadata": {},
   "outputs": [
    {
     "name": "stderr",
     "output_type": "stream",
     "text": [
      "Epoch [1/10], 횟수 [10/18], Loss: 0.7042: 100%|██████████| 18/18 [00:00<00:00, 34.73it/s]\n"
     ]
    },
    {
     "name": "stdout",
     "output_type": "stream",
     "text": [
      "0 Epoch 종료 후 train_score : 51.13636363636363\n",
      "0 Epoch 종료 후 test_score : 45.67901234567901\n"
     ]
    },
    {
     "name": "stderr",
     "output_type": "stream",
     "text": [
      "Epoch [2/10], 횟수 [10/18], Loss: 0.6961: 100%|██████████| 18/18 [00:00<00:00, 47.01it/s]\n"
     ]
    },
    {
     "name": "stdout",
     "output_type": "stream",
     "text": [
      "1 Epoch 종료 후 train_score : 51.13636363636363\n",
      "1 Epoch 종료 후 test_score : 45.67901234567901\n"
     ]
    },
    {
     "name": "stderr",
     "output_type": "stream",
     "text": [
      "Epoch [3/10], 횟수 [10/18], Loss: 0.6920: 100%|██████████| 18/18 [00:00<00:00, 44.28it/s]\n"
     ]
    },
    {
     "name": "stdout",
     "output_type": "stream",
     "text": [
      "2 Epoch 종료 후 train_score : 51.13636363636363\n",
      "2 Epoch 종료 후 test_score : 45.67901234567901\n"
     ]
    },
    {
     "name": "stderr",
     "output_type": "stream",
     "text": [
      "Epoch [4/10], 횟수 [10/18], Loss: 0.6831: 100%|██████████| 18/18 [00:00<00:00, 46.97it/s]\n"
     ]
    },
    {
     "name": "stdout",
     "output_type": "stream",
     "text": [
      "3 Epoch 종료 후 train_score : 81.25\n",
      "3 Epoch 종료 후 test_score : 67.90123456790124\n"
     ]
    },
    {
     "name": "stderr",
     "output_type": "stream",
     "text": [
      "Epoch [5/10], 횟수 [10/18], Loss: 0.6936: 100%|██████████| 18/18 [00:00<00:00, 46.29it/s]\n"
     ]
    },
    {
     "name": "stdout",
     "output_type": "stream",
     "text": [
      "4 Epoch 종료 후 train_score : 59.65909090909091\n",
      "4 Epoch 종료 후 test_score : 46.913580246913575\n"
     ]
    },
    {
     "name": "stderr",
     "output_type": "stream",
     "text": [
      "Epoch [6/10], 횟수 [10/18], Loss: 0.6644: 100%|██████████| 18/18 [00:00<00:00, 46.56it/s]\n"
     ]
    },
    {
     "name": "stdout",
     "output_type": "stream",
     "text": [
      "5 Epoch 종료 후 train_score : 61.93181818181818\n",
      "5 Epoch 종료 후 test_score : 50.617283950617285\n"
     ]
    },
    {
     "name": "stderr",
     "output_type": "stream",
     "text": [
      "Epoch [7/10], 횟수 [10/18], Loss: 0.5594: 100%|██████████| 18/18 [00:00<00:00, 46.29it/s]\n"
     ]
    },
    {
     "name": "stdout",
     "output_type": "stream",
     "text": [
      "6 Epoch 종료 후 train_score : 85.22727272727273\n",
      "6 Epoch 종료 후 test_score : 65.4320987654321\n"
     ]
    },
    {
     "name": "stderr",
     "output_type": "stream",
     "text": [
      "Epoch [8/10], 횟수 [10/18], Loss: 0.4358: 100%|██████████| 18/18 [00:00<00:00, 45.53it/s]\n"
     ]
    },
    {
     "name": "stdout",
     "output_type": "stream",
     "text": [
      "7 Epoch 종료 후 train_score : 89.20454545454545\n",
      "7 Epoch 종료 후 test_score : 70.37037037037037\n"
     ]
    },
    {
     "name": "stderr",
     "output_type": "stream",
     "text": [
      "Epoch [9/10], 횟수 [10/18], Loss: 0.3240: 100%|██████████| 18/18 [00:00<00:00, 45.74it/s]\n"
     ]
    },
    {
     "name": "stdout",
     "output_type": "stream",
     "text": [
      "8 Epoch 종료 후 train_score : 93.18181818181817\n",
      "8 Epoch 종료 후 test_score : 61.72839506172839\n"
     ]
    },
    {
     "name": "stderr",
     "output_type": "stream",
     "text": [
      "Epoch [10/10], 횟수 [10/18], Loss: 0.1982: 100%|██████████| 18/18 [00:00<00:00, 46.90it/s]\n"
     ]
    },
    {
     "name": "stdout",
     "output_type": "stream",
     "text": [
      "9 Epoch 종료 후 train_score : 85.79545454545455\n",
      "9 Epoch 종료 후 test_score : 54.32098765432099\n"
     ]
    },
    {
     "name": "stderr",
     "output_type": "stream",
     "text": [
      "Epoch [11/10], 횟수 [10/18], Loss: 0.2216: 100%|██████████| 18/18 [00:00<00:00, 45.47it/s]\n"
     ]
    },
    {
     "name": "stdout",
     "output_type": "stream",
     "text": [
      "10 Epoch 종료 후 train_score : 98.29545454545455\n",
      "10 Epoch 종료 후 test_score : 58.0246913580247\n"
     ]
    },
    {
     "name": "stderr",
     "output_type": "stream",
     "text": [
      "Epoch [12/10], 횟수 [10/18], Loss: 0.0990: 100%|██████████| 18/18 [00:00<00:00, 47.30it/s]\n"
     ]
    },
    {
     "name": "stdout",
     "output_type": "stream",
     "text": [
      "11 Epoch 종료 후 train_score : 98.29545454545455\n",
      "11 Epoch 종료 후 test_score : 56.79012345679012\n"
     ]
    },
    {
     "name": "stderr",
     "output_type": "stream",
     "text": [
      "Epoch [13/10], 횟수 [10/18], Loss: 0.0461: 100%|██████████| 18/18 [00:00<00:00, 46.56it/s]\n"
     ]
    },
    {
     "name": "stdout",
     "output_type": "stream",
     "text": [
      "12 Epoch 종료 후 train_score : 100.0\n",
      "12 Epoch 종료 후 test_score : 67.90123456790124\n"
     ]
    },
    {
     "name": "stderr",
     "output_type": "stream",
     "text": [
      "Epoch [14/10], 횟수 [10/18], Loss: 0.0211: 100%|██████████| 18/18 [00:00<00:00, 46.58it/s]\n"
     ]
    },
    {
     "name": "stdout",
     "output_type": "stream",
     "text": [
      "13 Epoch 종료 후 train_score : 100.0\n",
      "13 Epoch 종료 후 test_score : 65.4320987654321\n"
     ]
    },
    {
     "name": "stderr",
     "output_type": "stream",
     "text": [
      "Epoch [15/10], 횟수 [10/18], Loss: 0.0087: 100%|██████████| 18/18 [00:00<00:00, 46.73it/s]\n"
     ]
    },
    {
     "name": "stdout",
     "output_type": "stream",
     "text": [
      "14 Epoch 종료 후 train_score : 100.0\n",
      "14 Epoch 종료 후 test_score : 62.96296296296296\n"
     ]
    },
    {
     "name": "stderr",
     "output_type": "stream",
     "text": [
      "Epoch [16/10], 횟수 [10/18], Loss: 0.0056: 100%|██████████| 18/18 [00:00<00:00, 44.77it/s]\n"
     ]
    },
    {
     "name": "stdout",
     "output_type": "stream",
     "text": [
      "15 Epoch 종료 후 train_score : 100.0\n",
      "15 Epoch 종료 후 test_score : 64.19753086419753\n"
     ]
    },
    {
     "name": "stderr",
     "output_type": "stream",
     "text": [
      "Epoch [17/10], 횟수 [10/18], Loss: 0.0055: 100%|██████████| 18/18 [00:00<00:00, 46.79it/s]\n"
     ]
    },
    {
     "name": "stdout",
     "output_type": "stream",
     "text": [
      "16 Epoch 종료 후 train_score : 100.0\n",
      "16 Epoch 종료 후 test_score : 62.96296296296296\n"
     ]
    },
    {
     "name": "stderr",
     "output_type": "stream",
     "text": [
      "Epoch [18/10], 횟수 [10/18], Loss: 0.0037: 100%|██████████| 18/18 [00:00<00:00, 43.21it/s]\n"
     ]
    },
    {
     "name": "stdout",
     "output_type": "stream",
     "text": [
      "17 Epoch 종료 후 train_score : 100.0\n",
      "17 Epoch 종료 후 test_score : 65.4320987654321\n"
     ]
    },
    {
     "name": "stderr",
     "output_type": "stream",
     "text": [
      "Epoch [19/10], 횟수 [10/18], Loss: 0.0027: 100%|██████████| 18/18 [00:00<00:00, 47.20it/s]\n"
     ]
    },
    {
     "name": "stdout",
     "output_type": "stream",
     "text": [
      "18 Epoch 종료 후 train_score : 100.0\n",
      "18 Epoch 종료 후 test_score : 62.96296296296296\n"
     ]
    },
    {
     "name": "stderr",
     "output_type": "stream",
     "text": [
      "Epoch [20/10], 횟수 [10/18], Loss: 0.0022: 100%|██████████| 18/18 [00:00<00:00, 48.22it/s]\n"
     ]
    },
    {
     "name": "stdout",
     "output_type": "stream",
     "text": [
      "19 Epoch 종료 후 train_score : 100.0\n",
      "19 Epoch 종료 후 test_score : 65.4320987654321\n"
     ]
    },
    {
     "name": "stderr",
     "output_type": "stream",
     "text": [
      "Epoch [21/10], 횟수 [10/18], Loss: 0.0015: 100%|██████████| 18/18 [00:00<00:00, 44.87it/s]\n"
     ]
    },
    {
     "name": "stdout",
     "output_type": "stream",
     "text": [
      "20 Epoch 종료 후 train_score : 100.0\n",
      "20 Epoch 종료 후 test_score : 62.96296296296296\n"
     ]
    },
    {
     "name": "stderr",
     "output_type": "stream",
     "text": [
      "Epoch [22/10], 횟수 [10/18], Loss: 0.0014: 100%|██████████| 18/18 [00:00<00:00, 45.70it/s]\n"
     ]
    },
    {
     "name": "stdout",
     "output_type": "stream",
     "text": [
      "21 Epoch 종료 후 train_score : 100.0\n",
      "21 Epoch 종료 후 test_score : 65.4320987654321\n"
     ]
    },
    {
     "name": "stderr",
     "output_type": "stream",
     "text": [
      "Epoch [23/10], 횟수 [10/18], Loss: 0.0011: 100%|██████████| 18/18 [00:00<00:00, 45.88it/s]\n"
     ]
    },
    {
     "name": "stdout",
     "output_type": "stream",
     "text": [
      "22 Epoch 종료 후 train_score : 100.0\n",
      "22 Epoch 종료 후 test_score : 62.96296296296296\n"
     ]
    },
    {
     "name": "stderr",
     "output_type": "stream",
     "text": [
      "Epoch [24/10], 횟수 [10/18], Loss: 0.0009: 100%|██████████| 18/18 [00:00<00:00, 46.78it/s]\n"
     ]
    },
    {
     "name": "stdout",
     "output_type": "stream",
     "text": [
      "23 Epoch 종료 후 train_score : 100.0\n",
      "23 Epoch 종료 후 test_score : 65.4320987654321\n"
     ]
    },
    {
     "name": "stderr",
     "output_type": "stream",
     "text": [
      "Epoch [25/10], 횟수 [10/18], Loss: 0.0011: 100%|██████████| 18/18 [00:00<00:00, 39.20it/s]\n"
     ]
    },
    {
     "name": "stdout",
     "output_type": "stream",
     "text": [
      "24 Epoch 종료 후 train_score : 100.0\n",
      "24 Epoch 종료 후 test_score : 62.96296296296296\n"
     ]
    },
    {
     "name": "stderr",
     "output_type": "stream",
     "text": [
      "Epoch [26/10], 횟수 [10/18], Loss: 0.0008: 100%|██████████| 18/18 [00:00<00:00, 49.51it/s]\n"
     ]
    },
    {
     "name": "stdout",
     "output_type": "stream",
     "text": [
      "25 Epoch 종료 후 train_score : 100.0\n",
      "25 Epoch 종료 후 test_score : 61.72839506172839\n"
     ]
    },
    {
     "name": "stderr",
     "output_type": "stream",
     "text": [
      "Epoch [27/10], 횟수 [10/18], Loss: 0.0007: 100%|██████████| 18/18 [00:00<00:00, 47.04it/s]\n"
     ]
    },
    {
     "name": "stdout",
     "output_type": "stream",
     "text": [
      "26 Epoch 종료 후 train_score : 100.0\n",
      "26 Epoch 종료 후 test_score : 66.66666666666666\n"
     ]
    },
    {
     "name": "stderr",
     "output_type": "stream",
     "text": [
      "Epoch [28/10], 횟수 [10/18], Loss: 0.0007: 100%|██████████| 18/18 [00:00<00:00, 48.82it/s]\n"
     ]
    },
    {
     "name": "stdout",
     "output_type": "stream",
     "text": [
      "27 Epoch 종료 후 train_score : 100.0\n",
      "27 Epoch 종료 후 test_score : 61.72839506172839\n"
     ]
    },
    {
     "name": "stderr",
     "output_type": "stream",
     "text": [
      "Epoch [29/10], 횟수 [10/18], Loss: 0.0006: 100%|██████████| 18/18 [00:00<00:00, 45.95it/s]\n"
     ]
    },
    {
     "name": "stdout",
     "output_type": "stream",
     "text": [
      "28 Epoch 종료 후 train_score : 100.0\n",
      "28 Epoch 종료 후 test_score : 66.66666666666666\n"
     ]
    },
    {
     "name": "stderr",
     "output_type": "stream",
     "text": [
      "Epoch [30/10], 횟수 [10/18], Loss: 0.0005: 100%|██████████| 18/18 [00:00<00:00, 46.89it/s]\n"
     ]
    },
    {
     "name": "stdout",
     "output_type": "stream",
     "text": [
      "29 Epoch 종료 후 train_score : 100.0\n",
      "29 Epoch 종료 후 test_score : 61.72839506172839\n"
     ]
    },
    {
     "name": "stderr",
     "output_type": "stream",
     "text": [
      "Epoch [31/10], 횟수 [10/18], Loss: 0.0004: 100%|██████████| 18/18 [00:00<00:00, 45.47it/s]\n"
     ]
    },
    {
     "name": "stdout",
     "output_type": "stream",
     "text": [
      "30 Epoch 종료 후 train_score : 100.0\n",
      "30 Epoch 종료 후 test_score : 61.72839506172839\n"
     ]
    },
    {
     "name": "stderr",
     "output_type": "stream",
     "text": [
      "Epoch [32/10], 횟수 [10/18], Loss: 0.0003: 100%|██████████| 18/18 [00:00<00:00, 44.08it/s]\n"
     ]
    },
    {
     "name": "stdout",
     "output_type": "stream",
     "text": [
      "31 Epoch 종료 후 train_score : 100.0\n",
      "31 Epoch 종료 후 test_score : 61.72839506172839\n"
     ]
    },
    {
     "name": "stderr",
     "output_type": "stream",
     "text": [
      "Epoch [33/10], 횟수 [10/18], Loss: 0.0003: 100%|██████████| 18/18 [00:00<00:00, 40.67it/s]\n"
     ]
    },
    {
     "name": "stdout",
     "output_type": "stream",
     "text": [
      "32 Epoch 종료 후 train_score : 100.0\n",
      "32 Epoch 종료 후 test_score : 65.4320987654321\n"
     ]
    },
    {
     "name": "stderr",
     "output_type": "stream",
     "text": [
      "Epoch [34/10], 횟수 [10/18], Loss: 0.0003: 100%|██████████| 18/18 [00:00<00:00, 43.83it/s]\n"
     ]
    },
    {
     "name": "stdout",
     "output_type": "stream",
     "text": [
      "33 Epoch 종료 후 train_score : 100.0\n",
      "33 Epoch 종료 후 test_score : 61.72839506172839\n"
     ]
    },
    {
     "name": "stderr",
     "output_type": "stream",
     "text": [
      "Epoch [35/10], 횟수 [10/18], Loss: 0.0003: 100%|██████████| 18/18 [00:00<00:00, 44.64it/s]\n"
     ]
    },
    {
     "name": "stdout",
     "output_type": "stream",
     "text": [
      "34 Epoch 종료 후 train_score : 100.0\n",
      "34 Epoch 종료 후 test_score : 64.19753086419753\n"
     ]
    },
    {
     "name": "stderr",
     "output_type": "stream",
     "text": [
      "Epoch [36/10], 횟수 [10/18], Loss: 0.0002: 100%|██████████| 18/18 [00:00<00:00, 44.14it/s]\n"
     ]
    },
    {
     "name": "stdout",
     "output_type": "stream",
     "text": [
      "35 Epoch 종료 후 train_score : 100.0\n",
      "35 Epoch 종료 후 test_score : 62.96296296296296\n"
     ]
    },
    {
     "name": "stderr",
     "output_type": "stream",
     "text": [
      "Epoch [37/10], 횟수 [10/18], Loss: 0.0002: 100%|██████████| 18/18 [00:00<00:00, 43.87it/s]\n"
     ]
    },
    {
     "name": "stdout",
     "output_type": "stream",
     "text": [
      "36 Epoch 종료 후 train_score : 100.0\n",
      "36 Epoch 종료 후 test_score : 64.19753086419753\n"
     ]
    },
    {
     "name": "stderr",
     "output_type": "stream",
     "text": [
      "Epoch [38/10], 횟수 [10/18], Loss: 0.0002: 100%|██████████| 18/18 [00:00<00:00, 43.28it/s]\n"
     ]
    },
    {
     "name": "stdout",
     "output_type": "stream",
     "text": [
      "37 Epoch 종료 후 train_score : 100.0\n",
      "37 Epoch 종료 후 test_score : 61.72839506172839\n"
     ]
    },
    {
     "name": "stderr",
     "output_type": "stream",
     "text": [
      "Epoch [39/10], 횟수 [10/18], Loss: 0.0002: 100%|██████████| 18/18 [00:00<00:00, 43.36it/s]\n"
     ]
    },
    {
     "name": "stdout",
     "output_type": "stream",
     "text": [
      "38 Epoch 종료 후 train_score : 100.0\n",
      "38 Epoch 종료 후 test_score : 61.72839506172839\n"
     ]
    },
    {
     "name": "stderr",
     "output_type": "stream",
     "text": [
      "Epoch [40/10], 횟수 [10/18], Loss: 0.0001: 100%|██████████| 18/18 [00:00<00:00, 39.61it/s]\n"
     ]
    },
    {
     "name": "stdout",
     "output_type": "stream",
     "text": [
      "39 Epoch 종료 후 train_score : 100.0\n",
      "39 Epoch 종료 후 test_score : 64.19753086419753\n"
     ]
    },
    {
     "name": "stderr",
     "output_type": "stream",
     "text": [
      "Epoch [41/10], 횟수 [10/18], Loss: 0.0002: 100%|██████████| 18/18 [00:00<00:00, 45.43it/s]\n"
     ]
    },
    {
     "name": "stdout",
     "output_type": "stream",
     "text": [
      "40 Epoch 종료 후 train_score : 100.0\n",
      "40 Epoch 종료 후 test_score : 61.72839506172839\n"
     ]
    },
    {
     "name": "stderr",
     "output_type": "stream",
     "text": [
      "Epoch [42/10], 횟수 [10/18], Loss: 0.0001: 100%|██████████| 18/18 [00:00<00:00, 43.71it/s]\n"
     ]
    },
    {
     "name": "stdout",
     "output_type": "stream",
     "text": [
      "41 Epoch 종료 후 train_score : 100.0\n",
      "41 Epoch 종료 후 test_score : 61.72839506172839\n"
     ]
    },
    {
     "name": "stderr",
     "output_type": "stream",
     "text": [
      "Epoch [43/10], 횟수 [10/18], Loss: 0.0001: 100%|██████████| 18/18 [00:00<00:00, 42.69it/s]\n"
     ]
    },
    {
     "name": "stdout",
     "output_type": "stream",
     "text": [
      "42 Epoch 종료 후 train_score : 100.0\n",
      "42 Epoch 종료 후 test_score : 64.19753086419753\n"
     ]
    },
    {
     "name": "stderr",
     "output_type": "stream",
     "text": [
      "Epoch [44/10], 횟수 [10/18], Loss: 0.0001: 100%|██████████| 18/18 [00:00<00:00, 42.71it/s]\n"
     ]
    },
    {
     "name": "stdout",
     "output_type": "stream",
     "text": [
      "43 Epoch 종료 후 train_score : 100.0\n",
      "43 Epoch 종료 후 test_score : 64.19753086419753\n"
     ]
    },
    {
     "name": "stderr",
     "output_type": "stream",
     "text": [
      "Epoch [45/10], 횟수 [10/18], Loss: 0.0001: 100%|██████████| 18/18 [00:00<00:00, 43.21it/s]\n"
     ]
    },
    {
     "name": "stdout",
     "output_type": "stream",
     "text": [
      "44 Epoch 종료 후 train_score : 100.0\n",
      "44 Epoch 종료 후 test_score : 61.72839506172839\n"
     ]
    },
    {
     "name": "stderr",
     "output_type": "stream",
     "text": [
      "Epoch [46/10], 횟수 [10/18], Loss: 0.0001: 100%|██████████| 18/18 [00:00<00:00, 42.59it/s]\n"
     ]
    },
    {
     "name": "stdout",
     "output_type": "stream",
     "text": [
      "45 Epoch 종료 후 train_score : 100.0\n",
      "45 Epoch 종료 후 test_score : 61.72839506172839\n"
     ]
    },
    {
     "name": "stderr",
     "output_type": "stream",
     "text": [
      "Epoch [47/10], 횟수 [10/18], Loss: 0.0001: 100%|██████████| 18/18 [00:00<00:00, 40.25it/s]\n"
     ]
    },
    {
     "name": "stdout",
     "output_type": "stream",
     "text": [
      "46 Epoch 종료 후 train_score : 100.0\n",
      "46 Epoch 종료 후 test_score : 64.19753086419753\n"
     ]
    },
    {
     "name": "stderr",
     "output_type": "stream",
     "text": [
      "Epoch [48/10], 횟수 [10/18], Loss: 0.0001: 100%|██████████| 18/18 [00:00<00:00, 43.24it/s]\n"
     ]
    },
    {
     "name": "stdout",
     "output_type": "stream",
     "text": [
      "47 Epoch 종료 후 train_score : 100.0\n",
      "47 Epoch 종료 후 test_score : 64.19753086419753\n"
     ]
    },
    {
     "name": "stderr",
     "output_type": "stream",
     "text": [
      "Epoch [49/10], 횟수 [10/18], Loss: 0.0001: 100%|██████████| 18/18 [00:00<00:00, 39.46it/s]\n"
     ]
    },
    {
     "name": "stdout",
     "output_type": "stream",
     "text": [
      "48 Epoch 종료 후 train_score : 100.0\n",
      "48 Epoch 종료 후 test_score : 64.19753086419753\n"
     ]
    },
    {
     "name": "stderr",
     "output_type": "stream",
     "text": [
      "Epoch [50/10], 횟수 [10/18], Loss: 0.0001: 100%|██████████| 18/18 [00:00<00:00, 41.78it/s]\n"
     ]
    },
    {
     "name": "stdout",
     "output_type": "stream",
     "text": [
      "49 Epoch 종료 후 train_score : 100.0\n",
      "49 Epoch 종료 후 test_score : 64.19753086419753\n"
     ]
    },
    {
     "name": "stderr",
     "output_type": "stream",
     "text": [
      "Epoch [51/10], 횟수 [10/18], Loss: 0.0001: 100%|██████████| 18/18 [00:00<00:00, 41.94it/s]\n"
     ]
    },
    {
     "name": "stdout",
     "output_type": "stream",
     "text": [
      "50 Epoch 종료 후 train_score : 100.0\n",
      "50 Epoch 종료 후 test_score : 61.72839506172839\n"
     ]
    },
    {
     "name": "stderr",
     "output_type": "stream",
     "text": [
      "Epoch [52/10], 횟수 [10/18], Loss: 0.0001: 100%|██████████| 18/18 [00:00<00:00, 41.76it/s]\n"
     ]
    },
    {
     "name": "stdout",
     "output_type": "stream",
     "text": [
      "51 Epoch 종료 후 train_score : 100.0\n",
      "51 Epoch 종료 후 test_score : 64.19753086419753\n"
     ]
    },
    {
     "name": "stderr",
     "output_type": "stream",
     "text": [
      "Epoch [53/10], 횟수 [10/18], Loss: 0.0001: 100%|██████████| 18/18 [00:00<00:00, 42.64it/s]\n"
     ]
    },
    {
     "name": "stdout",
     "output_type": "stream",
     "text": [
      "52 Epoch 종료 후 train_score : 100.0\n",
      "52 Epoch 종료 후 test_score : 61.72839506172839\n"
     ]
    },
    {
     "name": "stderr",
     "output_type": "stream",
     "text": [
      "Epoch [54/10], 횟수 [10/18], Loss: 0.0001: 100%|██████████| 18/18 [00:00<00:00, 42.40it/s]\n"
     ]
    },
    {
     "name": "stdout",
     "output_type": "stream",
     "text": [
      "53 Epoch 종료 후 train_score : 100.0\n",
      "53 Epoch 종료 후 test_score : 62.96296296296296\n"
     ]
    },
    {
     "name": "stderr",
     "output_type": "stream",
     "text": [
      "Epoch [55/10], 횟수 [10/18], Loss: 0.0001: 100%|██████████| 18/18 [00:00<00:00, 42.45it/s]\n"
     ]
    },
    {
     "name": "stdout",
     "output_type": "stream",
     "text": [
      "54 Epoch 종료 후 train_score : 100.0\n",
      "54 Epoch 종료 후 test_score : 64.19753086419753\n"
     ]
    },
    {
     "name": "stderr",
     "output_type": "stream",
     "text": [
      "Epoch [56/10], 횟수 [10/18], Loss: 0.0000: 100%|██████████| 18/18 [00:00<00:00, 42.07it/s]\n"
     ]
    },
    {
     "name": "stdout",
     "output_type": "stream",
     "text": [
      "55 Epoch 종료 후 train_score : 100.0\n",
      "55 Epoch 종료 후 test_score : 62.96296296296296\n"
     ]
    },
    {
     "name": "stderr",
     "output_type": "stream",
     "text": [
      "Epoch [57/10], 횟수 [10/18], Loss: 0.0000: 100%|██████████| 18/18 [00:00<00:00, 42.09it/s]\n"
     ]
    },
    {
     "name": "stdout",
     "output_type": "stream",
     "text": [
      "56 Epoch 종료 후 train_score : 100.0\n",
      "56 Epoch 종료 후 test_score : 64.19753086419753\n"
     ]
    },
    {
     "name": "stderr",
     "output_type": "stream",
     "text": [
      "Epoch [58/10], 횟수 [10/18], Loss: 0.0001: 100%|██████████| 18/18 [00:00<00:00, 37.54it/s]\n"
     ]
    },
    {
     "name": "stdout",
     "output_type": "stream",
     "text": [
      "57 Epoch 종료 후 train_score : 100.0\n",
      "57 Epoch 종료 후 test_score : 62.96296296296296\n"
     ]
    },
    {
     "name": "stderr",
     "output_type": "stream",
     "text": [
      "Epoch [59/10], 횟수 [10/18], Loss: 0.0000: 100%|██████████| 18/18 [00:00<00:00, 42.48it/s]\n"
     ]
    },
    {
     "name": "stdout",
     "output_type": "stream",
     "text": [
      "58 Epoch 종료 후 train_score : 100.0\n",
      "58 Epoch 종료 후 test_score : 64.19753086419753\n"
     ]
    },
    {
     "name": "stderr",
     "output_type": "stream",
     "text": [
      "Epoch [60/10], 횟수 [10/18], Loss: 0.0000: 100%|██████████| 18/18 [00:00<00:00, 42.33it/s]\n"
     ]
    },
    {
     "name": "stdout",
     "output_type": "stream",
     "text": [
      "59 Epoch 종료 후 train_score : 100.0\n",
      "59 Epoch 종료 후 test_score : 64.19753086419753\n"
     ]
    },
    {
     "name": "stderr",
     "output_type": "stream",
     "text": [
      "Epoch [61/10], 횟수 [10/18], Loss: 0.0000: 100%|██████████| 18/18 [00:00<00:00, 42.01it/s]\n"
     ]
    },
    {
     "name": "stdout",
     "output_type": "stream",
     "text": [
      "60 Epoch 종료 후 train_score : 100.0\n",
      "60 Epoch 종료 후 test_score : 62.96296296296296\n"
     ]
    },
    {
     "name": "stderr",
     "output_type": "stream",
     "text": [
      "Epoch [62/10], 횟수 [10/18], Loss: 0.0000: 100%|██████████| 18/18 [00:00<00:00, 41.71it/s]\n"
     ]
    },
    {
     "name": "stdout",
     "output_type": "stream",
     "text": [
      "61 Epoch 종료 후 train_score : 100.0\n",
      "61 Epoch 종료 후 test_score : 64.19753086419753\n"
     ]
    },
    {
     "name": "stderr",
     "output_type": "stream",
     "text": [
      "Epoch [63/10], 횟수 [10/18], Loss: 0.0000: 100%|██████████| 18/18 [00:00<00:00, 42.43it/s]\n"
     ]
    },
    {
     "name": "stdout",
     "output_type": "stream",
     "text": [
      "62 Epoch 종료 후 train_score : 100.0\n",
      "62 Epoch 종료 후 test_score : 62.96296296296296\n"
     ]
    },
    {
     "name": "stderr",
     "output_type": "stream",
     "text": [
      "Epoch [64/10], 횟수 [10/18], Loss: 0.0000: 100%|██████████| 18/18 [00:00<00:00, 40.77it/s]\n"
     ]
    },
    {
     "name": "stdout",
     "output_type": "stream",
     "text": [
      "63 Epoch 종료 후 train_score : 100.0\n",
      "63 Epoch 종료 후 test_score : 62.96296296296296\n"
     ]
    },
    {
     "name": "stderr",
     "output_type": "stream",
     "text": [
      "Epoch [65/10], 횟수 [10/18], Loss: 0.0000: 100%|██████████| 18/18 [00:00<00:00, 40.97it/s]\n"
     ]
    },
    {
     "name": "stdout",
     "output_type": "stream",
     "text": [
      "64 Epoch 종료 후 train_score : 100.0\n",
      "64 Epoch 종료 후 test_score : 62.96296296296296\n"
     ]
    },
    {
     "name": "stderr",
     "output_type": "stream",
     "text": [
      "Epoch [66/10], 횟수 [10/18], Loss: 0.0000: 100%|██████████| 18/18 [00:00<00:00, 42.22it/s]\n"
     ]
    },
    {
     "name": "stdout",
     "output_type": "stream",
     "text": [
      "65 Epoch 종료 후 train_score : 100.0\n",
      "65 Epoch 종료 후 test_score : 64.19753086419753\n"
     ]
    },
    {
     "name": "stderr",
     "output_type": "stream",
     "text": [
      "Epoch [67/10], 횟수 [10/18], Loss: 0.0000: 100%|██████████| 18/18 [00:00<00:00, 38.83it/s]\n"
     ]
    },
    {
     "name": "stdout",
     "output_type": "stream",
     "text": [
      "66 Epoch 종료 후 train_score : 100.0\n",
      "66 Epoch 종료 후 test_score : 61.72839506172839\n"
     ]
    },
    {
     "name": "stderr",
     "output_type": "stream",
     "text": [
      "Epoch [68/10], 횟수 [10/18], Loss: 0.0000: 100%|██████████| 18/18 [00:00<00:00, 42.20it/s]\n"
     ]
    },
    {
     "name": "stdout",
     "output_type": "stream",
     "text": [
      "67 Epoch 종료 후 train_score : 100.0\n",
      "67 Epoch 종료 후 test_score : 64.19753086419753\n"
     ]
    },
    {
     "name": "stderr",
     "output_type": "stream",
     "text": [
      "Epoch [69/10], 횟수 [10/18], Loss: 0.0000: 100%|██████████| 18/18 [00:00<00:00, 43.01it/s]\n"
     ]
    },
    {
     "name": "stdout",
     "output_type": "stream",
     "text": [
      "68 Epoch 종료 후 train_score : 100.0\n",
      "68 Epoch 종료 후 test_score : 64.19753086419753\n"
     ]
    },
    {
     "name": "stderr",
     "output_type": "stream",
     "text": [
      "Epoch [70/10], 횟수 [10/18], Loss: 0.0000: 100%|██████████| 18/18 [00:00<00:00, 41.88it/s]\n"
     ]
    },
    {
     "name": "stdout",
     "output_type": "stream",
     "text": [
      "69 Epoch 종료 후 train_score : 100.0\n",
      "69 Epoch 종료 후 test_score : 62.96296296296296\n"
     ]
    },
    {
     "name": "stderr",
     "output_type": "stream",
     "text": [
      "Epoch [71/10], 횟수 [10/18], Loss: 0.0000: 100%|██████████| 18/18 [00:00<00:00, 42.13it/s]\n"
     ]
    },
    {
     "name": "stdout",
     "output_type": "stream",
     "text": [
      "70 Epoch 종료 후 train_score : 100.0\n",
      "70 Epoch 종료 후 test_score : 64.19753086419753\n"
     ]
    },
    {
     "name": "stderr",
     "output_type": "stream",
     "text": [
      "Epoch [72/10], 횟수 [10/18], Loss: 0.0000: 100%|██████████| 18/18 [00:00<00:00, 42.33it/s]\n"
     ]
    },
    {
     "name": "stdout",
     "output_type": "stream",
     "text": [
      "71 Epoch 종료 후 train_score : 100.0\n",
      "71 Epoch 종료 후 test_score : 62.96296296296296\n"
     ]
    },
    {
     "name": "stderr",
     "output_type": "stream",
     "text": [
      "Epoch [73/10], 횟수 [10/18], Loss: 0.0000: 100%|██████████| 18/18 [00:00<00:00, 42.75it/s]\n"
     ]
    },
    {
     "name": "stdout",
     "output_type": "stream",
     "text": [
      "72 Epoch 종료 후 train_score : 100.0\n",
      "72 Epoch 종료 후 test_score : 62.96296296296296\n",
      "Early Stopping at : 72 Epoch\n"
     ]
    }
   ],
   "source": [
    "from tqdm import tqdm # 프로그레스 바 생성\n",
    "from torch.optim.lr_scheduler import ReduceLROnPlateau # 스케줄러 생성 \n",
    "scheduler = ReduceLROnPlateau(optimizer, 'min', patience=15, verbose=True)\n",
    "\n",
    "loss_list=[]\n",
    "tas_list=[]\n",
    "tes_list=[]\n",
    "max=0\n",
    "for epoch in range(100): # 10회 반복 \n",
    "    running_loss = 0.0 # 1 epoch당 누적 로스값 \n",
    "    #==================================================================================\n",
    "    pbar = tqdm(enumerate(data_loader), total=len(data_loader)) \n",
    "    for i, data in pbar: # pbar가 데이터 로더 역할 수행\n",
    "        inputs, labels = data\n",
    "        outputs = model(inputs)\n",
    "        loss = criterion(outputs, labels)\n",
    "        optimizer.zero_grad()\n",
    "        loss.backward()\n",
    "        optimizer.step()\n",
    "        \n",
    "        running_loss += loss.item() # 로스 누적 \n",
    "        if i % 10 == 9:\n",
    "            pbar.set_description(f'Epoch [{epoch + 1}/{10}], 횟수 [{i + 1}/{len(data_loader)}], Loss: {running_loss / 10:.4f}')\n",
    "            loss_list.append(running_loss)\n",
    "            running_loss = 0.0\n",
    "    #==================================================================================   \n",
    "    # 모델 평가\n",
    "\n",
    "    with torch.no_grad():\n",
    "        train_accuracy = get_accuracy(data_loader, model)\n",
    "        test_accuracy = get_accuracy(test_loader, model)\n",
    "    print(f'{epoch} Epoch 종료 후 train_score : {(100 * train_accuracy)}')\n",
    "    print(f'{epoch} Epoch 종료 후 test_score : {(100 * test_accuracy)}')\n",
    "    tas_list.append(train_accuracy)\n",
    "    tes_list.append(test_accuracy)\n",
    "    if max < test_accuracy:\n",
    "        max = test_accuracy\n",
    "        torch.save(model.state_dict(), 'model.pth')\n",
    "    \n",
    "    scheduler.step(loss)\n",
    "    if scheduler.num_bad_epochs >= scheduler.patience:\n",
    "        print(f\"Early Stopping at : {epoch} Epoch\")\n",
    "        break"
   ]
  },
  {
   "cell_type": "code",
   "execution_count": 46,
   "metadata": {},
   "outputs": [
    {
     "data": {
      "text/plain": [
       "<function matplotlib.pyplot.ylabel(ylabel, fontdict=None, labelpad=None, *, loc=None, **kwargs)>"
      ]
     },
     "execution_count": 46,
     "metadata": {},
     "output_type": "execute_result"
    },
    {
     "data": {
      "image/png": "[encoded data removed]",
      "text/plain": [
       "<Figure size 640x480 with 1 Axes>"
      ]
     },
     "metadata": {},
     "output_type": "display_data"
    }
   ],
   "source": [
    "import matplotlib.pyplot as plt\n",
    "\n",
    "#plt.plot(loss_list)\n",
    "plt.plot(tas_list, label=\"train\")\n",
    "plt.plot(tes_list, label=\"test\")\n",
    "plt.plot(np.array(tas_list)-np.array(tes_list), label=\"diff\")\n",
    "plt.grid(True)\n",
    "plt.legend()\n",
    "plt.ylabel"
   ]
  },
  {
   "cell_type": "code",
   "execution_count": 47,
   "metadata": {},
   "outputs": [],
   "source": [
    "# 과적합이 뜬다...이번에는 모델에 dropout과 batch normalization을 추가로 작업해보자! "
   ]
  },
  {
   "cell_type": "code",
   "execution_count": 50,
   "metadata": {},
   "outputs": [
    {
     "data": {
      "text/plain": [
       "(tensor([0]), tensor([[ 0.5850, -0.8256]]))"
      ]
     },
     "execution_count": 50,
     "metadata": {},
     "output_type": "execute_result"
    }
   ],
   "source": [
    "model = Mob_Dog()\n",
    "model.load_state_dict(torch.load('model.pth'))\n",
    "model.eval()\n",
    "\n",
    "# 이미지 예측\n",
    "img = cv2.imread('./data/mop_dog/74.jpg', cv2.IMREAD_GRAYSCALE)\n",
    "img = cv2.resize(img, (50, 50))\n",
    "img = img / 255.0\n",
    "img = torch.Tensor(img)\n",
    "img = img.unsqueeze(0)\n",
    "\n",
    "with torch.no_grad():\n",
    "    output = model(img)\n",
    "    _, predicted = torch.max(output.data, 1)\n",
    "predicted, output # 이런 젠장, 걸레라고 나온다 "
   ]
  },
  {
   "cell_type": "code",
   "execution_count": null,
   "metadata": {},
   "outputs": [],
   "source": []
  }
 ],
 "metadata": {
  "kernelspec": {
   "display_name": "Torch_PY38",
   "language": "python",
   "name": "python3"
  },
  "language_info": {
   "codemirror_mode": {
    "name": "ipython",
    "version": 3
   },
   "file_extension": ".py",
   "mimetype": "text/x-python",
   "name": "python",
   "nbconvert_exporter": "python",
   "pygments_lexer": "ipython3",
   "version": "3.8.18"
  }
 },
 "nbformat": 4,
 "nbformat_minor": 2
}
