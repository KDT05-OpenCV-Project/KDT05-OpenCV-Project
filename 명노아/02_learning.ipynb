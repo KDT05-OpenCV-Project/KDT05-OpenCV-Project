{
 "cells": [
  {
   "cell_type": "code",
   "execution_count": 132,
   "metadata": {},
   "outputs": [],
   "source": [
    "from torchvision.datasets import ImageFolder\n",
    "import torch\n",
    "import torch.nn as nn\n",
    "import torch.nn.functional as F\n",
    "import torch.optim as optim\n",
    "from torch.utils.data import DataLoader\n",
    "from torchvision.datasets import ImageFolder\n",
    "import torchvision.transforms as transforms\n",
    "import cv2\n",
    "import numpy as np\n",
    "import pandas as pd\n",
    "\n",
    "transform = transforms.Compose([\n",
    "    transforms.Resize((50,50)), \n",
    "    transforms.ToTensor() \n",
    "])\n",
    "\n",
    "data = ImageFolder(root=\"./data\", transform=transform)"
   ]
  },
  {
   "cell_type": "code",
   "execution_count": 133,
   "metadata": {},
   "outputs": [],
   "source": [
    "data_loader = DataLoader(data, batch_size=10, shuffle=True)"
   ]
  },
  {
   "cell_type": "code",
   "execution_count": 134,
   "metadata": {},
   "outputs": [
    {
     "name": "stdout",
     "output_type": "stream",
     "text": [
      "torch.Size([10, 3, 50, 50]) torch.Size([10])\n"
     ]
    }
   ],
   "source": [
    "images, labels = next(iter(data_loader))\n",
    "print(images.shape, labels.shape) # shape : [개수, 채널 수, 높이, 너비]"
   ]
  },
  {
   "cell_type": "code",
   "execution_count": 135,
   "metadata": {},
   "outputs": [],
   "source": [
    "class Mob_Dog(nn.Module): # 클래스 생성\n",
    "    def __init__(self):\n",
    "        super(Mob_Dog, self).__init__()\n",
    "        self.conv1 = nn.Conv2d(3, 6, 5)\n",
    "        self.pool = nn.MaxPool2d(2, 2)\n",
    "        self.conv2 = nn.Conv2d(6, 16, 5)\n",
    "        self.fc1 = nn.Linear(16 * 9 * 9, 120)\n",
    "        self.fc2 = nn.Linear(120, 84)\n",
    "        self.fc3 = nn.Linear(84, 2)\n",
    "        \n",
    "    def forward(self, x):\n",
    "        x = self.pool(F.relu(self.conv1(x)))\n",
    "        x = self.pool(F.relu(self.conv2(x))) # 두번 컨볼루션 연산 해주기\n",
    "        \n",
    "        \n",
    "        \n",
    "        x = x.view(-1, 16 * 9 * 9)\n",
    "        x = F.relu(self.fc1(x))\n",
    "        x = F.relu(self.fc2(x))\n",
    "        x = self.fc3(x)\n",
    "        return x"
   ]
  },
  {
   "cell_type": "code",
   "execution_count": 136,
   "metadata": {},
   "outputs": [],
   "source": [
    "# 모델 객체 생성, 옵티마이저 생성\n",
    "model = Mob_Dog()\n",
    "criterion = nn.CrossEntropyLoss()\n",
    "optimizer = optim.SGD(model.parameters(), lr=0.001, momentum=0.9)"
   ]
  },
  {
   "cell_type": "code",
   "execution_count": 137,
   "metadata": {},
   "outputs": [
    {
     "name": "stderr",
     "output_type": "stream",
     "text": [
      "Epoch [1/10], 횟수 [10/18], Loss: 0.6937: 100%|██████████| 18/18 [00:00<00:00, 47.40it/s]\n"
     ]
    },
    {
     "name": "stdout",
     "output_type": "stream",
     "text": [
      "0 Epoch 종료 후 train_score : 51.13636363636363\n"
     ]
    },
    {
     "name": "stderr",
     "output_type": "stream",
     "text": [
      "Epoch [2/10], 횟수 [10/18], Loss: 0.6928: 100%|██████████| 18/18 [00:00<00:00, 49.38it/s]\n"
     ]
    },
    {
     "name": "stdout",
     "output_type": "stream",
     "text": [
      "1 Epoch 종료 후 train_score : 51.13636363636363\n"
     ]
    },
    {
     "name": "stderr",
     "output_type": "stream",
     "text": [
      "Epoch [3/10], 횟수 [10/18], Loss: 0.6916: 100%|██████████| 18/18 [00:00<00:00, 51.71it/s]\n"
     ]
    },
    {
     "name": "stdout",
     "output_type": "stream",
     "text": [
      "2 Epoch 종료 후 train_score : 51.13636363636363\n"
     ]
    },
    {
     "name": "stderr",
     "output_type": "stream",
     "text": [
      "Epoch [4/10], 횟수 [10/18], Loss: 0.6920: 100%|██████████| 18/18 [00:00<00:00, 52.14it/s]\n"
     ]
    },
    {
     "name": "stdout",
     "output_type": "stream",
     "text": [
      "3 Epoch 종료 후 train_score : 51.13636363636363\n"
     ]
    },
    {
     "name": "stderr",
     "output_type": "stream",
     "text": [
      "Epoch [5/10], 횟수 [10/18], Loss: 0.6942: 100%|██████████| 18/18 [00:00<00:00, 52.33it/s]\n"
     ]
    },
    {
     "name": "stdout",
     "output_type": "stream",
     "text": [
      "4 Epoch 종료 후 train_score : 51.13636363636363\n",
      "Early Stopping at : 4 Epoch\n"
     ]
    }
   ],
   "source": [
    "from tqdm import tqdm # 프로그레스 바 생성\n",
    "from torch.optim.lr_scheduler import ReduceLROnPlateau # 스케줄러 생성 \n",
    "scheduler = ReduceLROnPlateau(optimizer, 'min', patience=3, verbose=True)\n",
    "\n",
    "\n",
    "for epoch in range(10): # 10회 반복 \n",
    "    running_loss = 0.0 # 1 epoch당 누적 로스값 \n",
    "    #==================================================================================\n",
    "    pbar = tqdm(enumerate(data_loader), total=len(data_loader)) \n",
    "    for i, data in pbar: # pbar가 데이터 로더 역할 수행\n",
    "        inputs, labels = data\n",
    "        outputs = model(inputs)\n",
    "        loss = criterion(outputs, labels)\n",
    "        optimizer.zero_grad()\n",
    "        loss.backward()\n",
    "        optimizer.step()\n",
    "        \n",
    "        running_loss += loss.item() # 로스 누적 \n",
    "        if i % 10 == 9:\n",
    "            pbar.set_description(f'Epoch [{epoch + 1}/{10}], 횟수 [{i + 1}/{len(data_loader)}], Loss: {running_loss / 10:.4f}')\n",
    "            running_loss = 0.0\n",
    "    #==================================================================================   \n",
    "    # 모델 평가\n",
    "    correct = 0\n",
    "    total = 0\n",
    "    with torch.no_grad():\n",
    "        for data in data_loader:\n",
    "            images, labels = data\n",
    "            outputs = model(images)\n",
    "            _, predicted = torch.max(outputs.data, 1) # dim=1을 주어 최종 값 계산\n",
    "            total += labels.size(0)\n",
    "            correct += (predicted == labels).sum().item()\n",
    "    epoch_accuracy = correct / total\n",
    "    print(f'{epoch} Epoch 종료 후 train_score : {(100 * epoch_accuracy)}')\n",
    "    \n",
    "    \n",
    "    scheduler.step(loss)\n",
    "    if scheduler.num_bad_epochs >= scheduler.patience:\n",
    "        print(f\"Early Stopping at : {epoch} Epoch\")\n",
    "        break"
   ]
  },
  {
   "cell_type": "code",
   "execution_count": 138,
   "metadata": {},
   "outputs": [
    {
     "data": {
      "text/plain": [
       "tensor([1])"
      ]
     },
     "execution_count": 138,
     "metadata": {},
     "output_type": "execute_result"
    }
   ],
   "source": [
    "# 모델 저장\n",
    "torch.save(model.state_dict(), 'mob_dog.pth')\n",
    "\n",
    "# 모델 로드\n",
    "model = Mob_Dog()\n",
    "model.load_state_dict(torch.load('mob_dog.pth'))\n",
    "model.eval()\n",
    "\n",
    "# 이미지 예측\n",
    "img = cv2.imread('./data/mop_dog/0.jpg')\n",
    "img = cv2.resize(img, (50, 50))\n",
    "#img = img / 255.0\n",
    "img = np.transpose(img, (2, 0, 1))\n",
    "img = torch.Tensor(img)\n",
    "img = img.unsqueeze(0)\n",
    "\n",
    "with torch.no_grad():\n",
    "    output = model(img)\n",
    "    _, predicted = torch.max(output.data, 1)\n",
    "predicted # 이런 젠장, 걸레라고 나온다 "
   ]
  }
 ],
 "metadata": {
  "kernelspec": {
   "display_name": "Torch_PY38",
   "language": "python",
   "name": "python3"
  },
  "language_info": {
   "codemirror_mode": {
    "name": "ipython",
    "version": 3
   },
   "file_extension": ".py",
   "mimetype": "text/x-python",
   "name": "python",
   "nbconvert_exporter": "python",
   "pygments_lexer": "ipython3",
   "version": "3.8.18"
  }
 },
 "nbformat": 4,
 "nbformat_minor": 2
}
