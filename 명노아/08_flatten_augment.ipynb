{
 "cells": [
  {
   "cell_type": "code",
   "execution_count": 25,
   "metadata": {},
   "outputs": [],
   "source": [
    "from torchvision.datasets import ImageFolder\n",
    "import torch\n",
    "import torch.nn as nn\n",
    "import torch.nn.functional as F\n",
    "import torch.optim as optim\n",
    "from torch.utils.data import DataLoader\n",
    "from torchvision.datasets import ImageFolder\n",
    "import torchvision.transforms as transforms\n",
    "import cv2\n",
    "import numpy as np\n",
    "import pandas as pd\n",
    "from PIL import Image\n",
    "\n",
    "def apply_adaptive_threshold(img):\n",
    "    gray_img = cv2.cvtColor(np.array(img), cv2.COLOR_RGB2GRAY)\n",
    "    th_img = cv2.adaptiveThreshold(gray_img, 255, cv2.ADAPTIVE_THRESH_GAUSSIAN_C, cv2.THRESH_BINARY, 11, 2)\n",
    "    return Image.fromarray(th_img)\n",
    "\n",
    "\n",
    "transform = transforms.Compose([\n",
    "    transforms.Resize((50, 50)), \n",
    "    transforms.Lambda(apply_adaptive_threshold),  \n",
    "    transforms.ToTensor()  \n",
    "])\n",
    "data = ImageFolder(root=\"./add_data\", transform=transform) # 데이터를 추가하였음\n",
    "data2 = ImageFolder(root=\"./data_test\", transform=transform)"
   ]
  },
  {
   "cell_type": "code",
   "execution_count": 26,
   "metadata": {},
   "outputs": [],
   "source": [
    "data_loader = DataLoader(data, batch_size=10, shuffle=True)\n",
    "test_loader = DataLoader(data2, batch_size=7, shuffle=True)"
   ]
  },
  {
   "cell_type": "code",
   "execution_count": 27,
   "metadata": {},
   "outputs": [
    {
     "name": "stdout",
     "output_type": "stream",
     "text": [
      "torch.Size([10, 1, 50, 50]) torch.Size([10])\n"
     ]
    }
   ],
   "source": [
    "images, labels = next(iter(data_loader))\n",
    "print(images.shape, labels.shape)"
   ]
  },
  {
   "cell_type": "code",
   "execution_count": 28,
   "metadata": {},
   "outputs": [],
   "source": [
    "class Mob_Dog(nn.Module):\n",
    "    def __init__(self):\n",
    "        super(Mob_Dog, self).__init__()\n",
    "        self.conv1 = nn.Conv2d(1, 6, 5)\n",
    "        self.pool = nn.MaxPool2d(2, 2)\n",
    "        self.conv2 = nn.Conv2d(6, 16, 5)\n",
    "        self.fc1 = nn.Linear(16 * 9 * 9, 120)\n",
    "        self.fc2 = nn.Linear(120, 84)\n",
    "        self.fc3 = nn.Linear(84, 2)\n",
    "        self.dropout = nn.Dropout(p=0.5)  # Dropout 추가\n",
    "        self.batchnorm1 = nn.BatchNorm2d(6)  # Batch Normalization 추가\n",
    "        self.batchnorm2 = nn.BatchNorm2d(16)  # Batch Normalization 추가\n",
    "        self.batchnorm3 = nn.BatchNorm1d(120)  # Batch Normalization 추가\n",
    "        self.batchnorm4 = nn.BatchNorm1d(84)  # Batch Normalization 추가\n",
    "        \n",
    "    def forward(self, x):\n",
    "        x = self.pool(F.relu(self.batchnorm1(self.conv1(x))))\n",
    "        x = self.pool(F.relu(self.batchnorm2(self.conv2(x))))  # Batch Normalization 추가\n",
    "        \n",
    "        x = x.view(-1, 16 * 9 * 9)\n",
    "        x = F.relu(self.batchnorm3(self.fc1(x)))  # Batch Normalization 추가\n",
    "        x = F.relu(self.batchnorm4(self.fc2(x)))  # Batch Normalization 추가\n",
    "        x = self.dropout(x)  # Dropout 추가\n",
    "        x = self.fc3(x)\n",
    "        return x\n"
   ]
  },
  {
   "cell_type": "code",
   "execution_count": 29,
   "metadata": {},
   "outputs": [],
   "source": [
    "# 모델 객체 생성, 옵티마이저 생성\n",
    "model = Mob_Dog()\n",
    "criterion = nn.CrossEntropyLoss()\n",
    "optimizer = optim.AdamW(model.parameters(), lr=0.001)"
   ]
  },
  {
   "cell_type": "code",
   "execution_count": 30,
   "metadata": {},
   "outputs": [],
   "source": [
    "def get_accuracy(loader, model):\n",
    "    total=0\n",
    "    correct=0\n",
    "    for data in loader:\n",
    "        images, labels = data\n",
    "        outputs = model(images)\n",
    "        _, predicted = torch.max(outputs.data, 1) \n",
    "        total += labels.size(0)\n",
    "        correct += (predicted == labels).sum().item()\n",
    "    return correct / total"
   ]
  },
  {
   "cell_type": "code",
   "execution_count": 31,
   "metadata": {},
   "outputs": [
    {
     "name": "stderr",
     "output_type": "stream",
     "text": [
      "Epoch [1/10], 횟수 [40/44], Loss: 0.6001: 100%|██████████| 44/44 [00:01<00:00, 41.08it/s]\n"
     ]
    },
    {
     "name": "stdout",
     "output_type": "stream",
     "text": [
      "0 Epoch 종료 후 train_score : 84.75750577367207\n",
      "0 Epoch 종료 후 test_score : 75.30864197530865\n"
     ]
    },
    {
     "name": "stderr",
     "output_type": "stream",
     "text": [
      "Epoch [2/10], 횟수 [40/44], Loss: 0.2851: 100%|██████████| 44/44 [00:00<00:00, 46.52it/s]\n"
     ]
    },
    {
     "name": "stdout",
     "output_type": "stream",
     "text": [
      "1 Epoch 종료 후 train_score : 92.60969976905312\n",
      "1 Epoch 종료 후 test_score : 70.37037037037037\n"
     ]
    },
    {
     "name": "stderr",
     "output_type": "stream",
     "text": [
      "Epoch [3/10], 횟수 [40/44], Loss: 0.2180: 100%|██████████| 44/44 [00:00<00:00, 45.88it/s]\n"
     ]
    },
    {
     "name": "stdout",
     "output_type": "stream",
     "text": [
      "2 Epoch 종료 후 train_score : 95.61200923787528\n",
      "2 Epoch 종료 후 test_score : 71.60493827160494\n"
     ]
    },
    {
     "name": "stderr",
     "output_type": "stream",
     "text": [
      "Epoch [4/10], 횟수 [40/44], Loss: 0.1279: 100%|██████████| 44/44 [00:00<00:00, 47.39it/s]\n"
     ]
    },
    {
     "name": "stdout",
     "output_type": "stream",
     "text": [
      "3 Epoch 종료 후 train_score : 96.76674364896074\n",
      "3 Epoch 종료 후 test_score : 70.37037037037037\n"
     ]
    },
    {
     "name": "stderr",
     "output_type": "stream",
     "text": [
      "Epoch [5/10], 횟수 [40/44], Loss: 0.0792: 100%|██████████| 44/44 [00:00<00:00, 47.03it/s]\n"
     ]
    },
    {
     "name": "stdout",
     "output_type": "stream",
     "text": [
      "4 Epoch 종료 후 train_score : 97.22863741339492\n",
      "4 Epoch 종료 후 test_score : 66.66666666666666\n"
     ]
    },
    {
     "name": "stderr",
     "output_type": "stream",
     "text": [
      "Epoch [6/10], 횟수 [40/44], Loss: 0.1317: 100%|██████████| 44/44 [00:00<00:00, 48.09it/s]\n"
     ]
    },
    {
     "name": "stdout",
     "output_type": "stream",
     "text": [
      "5 Epoch 종료 후 train_score : 97.45958429561202\n",
      "5 Epoch 종료 후 test_score : 67.90123456790124\n"
     ]
    },
    {
     "name": "stderr",
     "output_type": "stream",
     "text": [
      "Epoch [7/10], 횟수 [40/44], Loss: 0.0681: 100%|██████████| 44/44 [00:00<00:00, 46.84it/s]\n"
     ]
    },
    {
     "name": "stdout",
     "output_type": "stream",
     "text": [
      "6 Epoch 종료 후 train_score : 98.61431870669746\n",
      "6 Epoch 종료 후 test_score : 69.1358024691358\n"
     ]
    },
    {
     "name": "stderr",
     "output_type": "stream",
     "text": [
      "Epoch [8/10], 횟수 [40/44], Loss: 0.1646: 100%|██████████| 44/44 [00:00<00:00, 47.50it/s]\n"
     ]
    },
    {
     "name": "stdout",
     "output_type": "stream",
     "text": [
      "7 Epoch 종료 후 train_score : 95.1501154734411\n",
      "7 Epoch 종료 후 test_score : 62.96296296296296\n"
     ]
    },
    {
     "name": "stderr",
     "output_type": "stream",
     "text": [
      "Epoch [9/10], 횟수 [40/44], Loss: 0.0774: 100%|██████████| 44/44 [00:00<00:00, 44.79it/s]\n"
     ]
    },
    {
     "name": "stdout",
     "output_type": "stream",
     "text": [
      "8 Epoch 종료 후 train_score : 96.07390300230946\n",
      "8 Epoch 종료 후 test_score : 64.19753086419753\n"
     ]
    },
    {
     "name": "stderr",
     "output_type": "stream",
     "text": [
      "Epoch [10/10], 횟수 [40/44], Loss: 0.0379: 100%|██████████| 44/44 [00:00<00:00, 46.83it/s]\n"
     ]
    },
    {
     "name": "stdout",
     "output_type": "stream",
     "text": [
      "9 Epoch 종료 후 train_score : 99.30715935334872\n",
      "9 Epoch 종료 후 test_score : 64.19753086419753\n"
     ]
    },
    {
     "name": "stderr",
     "output_type": "stream",
     "text": [
      "Epoch [11/10], 횟수 [40/44], Loss: 0.0356: 100%|██████████| 44/44 [00:00<00:00, 46.82it/s]\n"
     ]
    },
    {
     "name": "stdout",
     "output_type": "stream",
     "text": [
      "10 Epoch 종료 후 train_score : 99.07621247113164\n",
      "10 Epoch 종료 후 test_score : 62.96296296296296\n"
     ]
    },
    {
     "name": "stderr",
     "output_type": "stream",
     "text": [
      "Epoch [12/10], 횟수 [40/44], Loss: 0.1366: 100%|██████████| 44/44 [00:00<00:00, 46.00it/s]\n"
     ]
    },
    {
     "name": "stdout",
     "output_type": "stream",
     "text": [
      "11 Epoch 종료 후 train_score : 97.22863741339492\n",
      "11 Epoch 종료 후 test_score : 64.19753086419753\n"
     ]
    },
    {
     "name": "stderr",
     "output_type": "stream",
     "text": [
      "Epoch [13/10], 횟수 [40/44], Loss: 0.0977: 100%|██████████| 44/44 [00:00<00:00, 45.52it/s]\n"
     ]
    },
    {
     "name": "stdout",
     "output_type": "stream",
     "text": [
      "12 Epoch 종료 후 train_score : 96.07390300230946\n",
      "12 Epoch 종료 후 test_score : 64.19753086419753\n"
     ]
    },
    {
     "name": "stderr",
     "output_type": "stream",
     "text": [
      "Epoch [14/10], 횟수 [40/44], Loss: 0.0827: 100%|██████████| 44/44 [00:01<00:00, 40.25it/s]\n"
     ]
    },
    {
     "name": "stdout",
     "output_type": "stream",
     "text": [
      "13 Epoch 종료 후 train_score : 96.99769053117782\n",
      "13 Epoch 종료 후 test_score : 71.60493827160494\n"
     ]
    },
    {
     "name": "stderr",
     "output_type": "stream",
     "text": [
      "Epoch [15/10], 횟수 [40/44], Loss: 0.0953: 100%|██████████| 44/44 [00:00<00:00, 46.93it/s]\n"
     ]
    },
    {
     "name": "stdout",
     "output_type": "stream",
     "text": [
      "14 Epoch 종료 후 train_score : 98.61431870669746\n",
      "14 Epoch 종료 후 test_score : 69.1358024691358\n"
     ]
    },
    {
     "name": "stderr",
     "output_type": "stream",
     "text": [
      "Epoch [16/10], 횟수 [40/44], Loss: 0.0490: 100%|██████████| 44/44 [00:00<00:00, 47.14it/s]\n"
     ]
    },
    {
     "name": "stdout",
     "output_type": "stream",
     "text": [
      "15 Epoch 종료 후 train_score : 97.6905311778291\n",
      "15 Epoch 종료 후 test_score : 61.72839506172839\n"
     ]
    },
    {
     "name": "stderr",
     "output_type": "stream",
     "text": [
      "Epoch [17/10], 횟수 [40/44], Loss: 0.0985: 100%|██████████| 44/44 [00:00<00:00, 48.07it/s]\n"
     ]
    },
    {
     "name": "stdout",
     "output_type": "stream",
     "text": [
      "16 Epoch 종료 후 train_score : 99.76905311778292\n",
      "16 Epoch 종료 후 test_score : 70.37037037037037\n"
     ]
    },
    {
     "name": "stderr",
     "output_type": "stream",
     "text": [
      "Epoch [18/10], 횟수 [40/44], Loss: 0.0342: 100%|██████████| 44/44 [00:00<00:00, 46.70it/s]\n"
     ]
    },
    {
     "name": "stdout",
     "output_type": "stream",
     "text": [
      "17 Epoch 종료 후 train_score : 98.38337182448036\n",
      "17 Epoch 종료 후 test_score : 66.66666666666666\n"
     ]
    },
    {
     "name": "stderr",
     "output_type": "stream",
     "text": [
      "Epoch [19/10], 횟수 [40/44], Loss: 0.2056: 100%|██████████| 44/44 [00:00<00:00, 45.02it/s]\n"
     ]
    },
    {
     "name": "stdout",
     "output_type": "stream",
     "text": [
      "18 Epoch 종료 후 train_score : 97.45958429561202\n",
      "18 Epoch 종료 후 test_score : 65.4320987654321\n"
     ]
    },
    {
     "name": "stderr",
     "output_type": "stream",
     "text": [
      "Epoch [20/10], 횟수 [40/44], Loss: 0.0141: 100%|██████████| 44/44 [00:01<00:00, 43.94it/s]\n"
     ]
    },
    {
     "name": "stdout",
     "output_type": "stream",
     "text": [
      "19 Epoch 종료 후 train_score : 99.30715935334872\n",
      "19 Epoch 종료 후 test_score : 70.37037037037037\n"
     ]
    },
    {
     "name": "stderr",
     "output_type": "stream",
     "text": [
      "Epoch [21/10], 횟수 [40/44], Loss: 0.0765: 100%|██████████| 44/44 [00:01<00:00, 43.15it/s]\n"
     ]
    },
    {
     "name": "stdout",
     "output_type": "stream",
     "text": [
      "20 Epoch 종료 후 train_score : 98.38337182448036\n",
      "20 Epoch 종료 후 test_score : 67.90123456790124\n"
     ]
    },
    {
     "name": "stderr",
     "output_type": "stream",
     "text": [
      "Epoch [22/10], 횟수 [40/44], Loss: 0.0886: 100%|██████████| 44/44 [00:01<00:00, 40.26it/s]\n"
     ]
    },
    {
     "name": "stdout",
     "output_type": "stream",
     "text": [
      "21 Epoch 종료 후 train_score : 98.38337182448036\n",
      "21 Epoch 종료 후 test_score : 65.4320987654321\n"
     ]
    },
    {
     "name": "stderr",
     "output_type": "stream",
     "text": [
      "Epoch [23/10], 횟수 [40/44], Loss: 0.0581: 100%|██████████| 44/44 [00:01<00:00, 38.49it/s]\n"
     ]
    },
    {
     "name": "stdout",
     "output_type": "stream",
     "text": [
      "22 Epoch 종료 후 train_score : 99.07621247113164\n",
      "22 Epoch 종료 후 test_score : 65.4320987654321\n"
     ]
    },
    {
     "name": "stderr",
     "output_type": "stream",
     "text": [
      "Epoch [24/10], 횟수 [40/44], Loss: 0.0326: 100%|██████████| 44/44 [00:01<00:00, 41.99it/s]\n"
     ]
    },
    {
     "name": "stdout",
     "output_type": "stream",
     "text": [
      "23 Epoch 종료 후 train_score : 98.61431870669746\n",
      "23 Epoch 종료 후 test_score : 62.96296296296296\n"
     ]
    },
    {
     "name": "stderr",
     "output_type": "stream",
     "text": [
      "Epoch [25/10], 횟수 [40/44], Loss: 0.0150: 100%|██████████| 44/44 [00:01<00:00, 42.18it/s]\n"
     ]
    },
    {
     "name": "stdout",
     "output_type": "stream",
     "text": [
      "24 Epoch 종료 후 train_score : 97.92147806004618\n",
      "24 Epoch 종료 후 test_score : 56.79012345679012\n"
     ]
    },
    {
     "name": "stderr",
     "output_type": "stream",
     "text": [
      "Epoch [26/10], 횟수 [40/44], Loss: 0.0225: 100%|██████████| 44/44 [00:01<00:00, 41.37it/s]\n"
     ]
    },
    {
     "name": "stdout",
     "output_type": "stream",
     "text": [
      "25 Epoch 종료 후 train_score : 98.38337182448036\n",
      "25 Epoch 종료 후 test_score : 67.90123456790124\n"
     ]
    },
    {
     "name": "stderr",
     "output_type": "stream",
     "text": [
      "Epoch [27/10], 횟수 [40/44], Loss: 0.0701: 100%|██████████| 44/44 [00:01<00:00, 33.86it/s]\n"
     ]
    },
    {
     "name": "stdout",
     "output_type": "stream",
     "text": [
      "26 Epoch 종료 후 train_score : 99.07621247113164\n",
      "26 Epoch 종료 후 test_score : 62.96296296296296\n"
     ]
    },
    {
     "name": "stderr",
     "output_type": "stream",
     "text": [
      "Epoch [28/10], 횟수 [40/44], Loss: 0.0623: 100%|██████████| 44/44 [00:01<00:00, 43.36it/s]\n"
     ]
    },
    {
     "name": "stdout",
     "output_type": "stream",
     "text": [
      "27 Epoch 종료 후 train_score : 98.38337182448036\n",
      "27 Epoch 종료 후 test_score : 69.1358024691358\n"
     ]
    },
    {
     "name": "stderr",
     "output_type": "stream",
     "text": [
      "Epoch [29/10], 횟수 [40/44], Loss: 0.0662: 100%|██████████| 44/44 [00:01<00:00, 42.53it/s]\n"
     ]
    },
    {
     "name": "stdout",
     "output_type": "stream",
     "text": [
      "28 Epoch 종료 후 train_score : 99.30715935334872\n",
      "28 Epoch 종료 후 test_score : 66.66666666666666\n"
     ]
    },
    {
     "name": "stderr",
     "output_type": "stream",
     "text": [
      "Epoch [30/10], 횟수 [40/44], Loss: 0.0929: 100%|██████████| 44/44 [00:01<00:00, 41.73it/s]\n"
     ]
    },
    {
     "name": "stdout",
     "output_type": "stream",
     "text": [
      "29 Epoch 종료 후 train_score : 99.07621247113164\n",
      "29 Epoch 종료 후 test_score : 66.66666666666666\n"
     ]
    },
    {
     "name": "stderr",
     "output_type": "stream",
     "text": [
      "Epoch [31/10], 횟수 [40/44], Loss: 0.0376: 100%|██████████| 44/44 [00:01<00:00, 34.77it/s]\n"
     ]
    }
   ],
   "source": [
    "from tqdm import tqdm # 프로그레스 바 생성\n",
    "from torch.optim.lr_scheduler import ReduceLROnPlateau \n",
    "scheduler = ReduceLROnPlateau(optimizer, 'min', patience=15, verbose=True)\n",
    "\n",
    "loss_list=[]\n",
    "tas_list=[]\n",
    "tes_list=[]\n",
    "max=0\n",
    "for epoch in range(100): # 10회 반복 \n",
    "    running_loss = 0.0 # 1 epoch당 누적 로스값 \n",
    "    #==================================================================================\n",
    "    pbar = tqdm(enumerate(data_loader), total=len(data_loader)) \n",
    "    for i, data in pbar: # pbar가 데이터 로더 역할 수행\n",
    "        inputs, labels = data\n",
    "        outputs = model(inputs)\n",
    "        loss = criterion(outputs, labels)\n",
    "        optimizer.zero_grad()\n",
    "        loss.backward()\n",
    "        optimizer.step()\n",
    "        \n",
    "        running_loss += loss.item() # 로스 누적 \n",
    "        if i % 10 == 9:\n",
    "            pbar.set_description(f'Epoch [{epoch + 1}/{10}], 횟수 [{i + 1}/{len(data_loader)}], Loss: {running_loss / 10:.4f}')\n",
    "            loss_list.append(running_loss)\n",
    "            running_loss = 0.0\n",
    "    #==================================================================================   \n",
    "    # 모델 평가\n",
    "\n",
    "    with torch.no_grad():\n",
    "        train_accuracy = get_accuracy(data_loader, model)\n",
    "        test_accuracy = get_accuracy(test_loader, model)\n",
    "    print(f'{epoch} Epoch 종료 후 train_score : {(100 * train_accuracy)}')\n",
    "    print(f'{epoch} Epoch 종료 후 test_score : {(100 * test_accuracy)}')\n",
    "    tas_list.append(train_accuracy)\n",
    "    tes_list.append(test_accuracy)\n",
    "    if max < test_accuracy:\n",
    "        max = test_accuracy\n",
    "        torch.save(model.state_dict(), 'model.pth')\n",
    "    \n",
    "    scheduler.step(loss)\n",
    "    if scheduler.num_bad_epochs >= scheduler.patience:\n",
    "        print(f\"Early Stopping at : {epoch} Epoch\")\n",
    "        break"
   ]
  },
  {
   "cell_type": "code",
   "execution_count": null,
   "metadata": {},
   "outputs": [
    {
     "data": {
      "text/plain": [
       "<function matplotlib.pyplot.ylabel(ylabel, fontdict=None, labelpad=None, *, loc=None, **kwargs)>"
      ]
     },
     "execution_count": 26,
     "metadata": {},
     "output_type": "execute_result"
    },
    {
     "data": {
      "image/png": "[encoded data removed]",
      "text/plain": [
       "<Figure size 640x480 with 1 Axes>"
      ]
     },
     "metadata": {},
     "output_type": "display_data"
    }
   ],
   "source": [
    "import matplotlib.pyplot as plt\n",
    "\n",
    "#plt.plot(loss_list)\n",
    "plt.plot(tas_list, label=\"train\")\n",
    "plt.plot(tes_list, label=\"test\")\n",
    "plt.plot(np.array(tas_list)-np.array(tes_list), label=\"diff\")\n",
    "plt.grid(True)\n",
    "plt.legend()\n",
    "plt.ylabel"
   ]
  },
  {
   "cell_type": "code",
   "execution_count": null,
   "metadata": {},
   "outputs": [],
   "source": [
    "# 확실히 높아진 성능을 자랑한다...."
   ]
  },
  {
   "cell_type": "code",
   "execution_count": null,
   "metadata": {},
   "outputs": [
    {
     "data": {
      "text/plain": [
       "(tensor([1]), tensor([[-0.5451,  0.5950]]))"
      ]
     },
     "execution_count": 34,
     "metadata": {},
     "output_type": "execute_result"
    }
   ],
   "source": [
    "model = Mob_Dog()\n",
    "model.load_state_dict(torch.load('model.pth'))\n",
    "model.eval()\n",
    "\n",
    "# 이미지 예측\n",
    "img = cv2.imread('./data/mop_dog/74.jpg', cv2.IMREAD_GRAYSCALE)\n",
    "img = cv2.resize(img, (50, 50))\n",
    "img = img / 255.0\n",
    "img = torch.Tensor(img)\n",
    "img = img.unsqueeze(0).unsqueeze(1)\n",
    "\n",
    "with torch.no_grad():\n",
    "    output = model(img)\n",
    "    _, predicted = torch.max(output.data, 1)\n",
    "predicted, output # 예측도 슬슬,,,잘 나온다!"
   ]
  },
  {
   "cell_type": "code",
   "execution_count": null,
   "metadata": {},
   "outputs": [],
   "source": [
    "# 추가적으로 데이터셋을 늘려보고, 정규화와 이퀄라이즈, Clahe를 사용해보자! "
   ]
  }
 ],
 "metadata": {
  "kernelspec": {
   "display_name": "Torch_PY38",
   "language": "python",
   "name": "python3"
  },
  "language_info": {
   "codemirror_mode": {
    "name": "ipython",
    "version": 3
   },
   "file_extension": ".py",
   "mimetype": "text/x-python",
   "name": "python",
   "nbconvert_exporter": "python",
   "pygments_lexer": "ipython3",
   "version": "3.8.18"
  }
 },
 "nbformat": 4,
 "nbformat_minor": 2
}
