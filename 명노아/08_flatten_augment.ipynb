{
 "cells": [
  {
   "cell_type": "code",
   "execution_count": 73,
   "metadata": {},
   "outputs": [],
   "source": [
    "from torchvision.datasets import ImageFolder\n",
    "import torch\n",
    "import torch.nn as nn\n",
    "import torch.nn.functional as F\n",
    "import torch.optim as optim\n",
    "from torch.utils.data import DataLoader\n",
    "from torchvision.datasets import ImageFolder\n",
    "import torchvision.transforms as transforms\n",
    "import cv2\n",
    "import numpy as np\n",
    "import pandas as pd\n",
    "from PIL import Image"
   ]
  },
  {
   "cell_type": "code",
   "execution_count": null,
   "metadata": {},
   "outputs": [],
   "source": [
    "def apply_adaptive_threshold(img):\n",
    "    gray_img = cv2.cvtColor(np.array(img), cv2.COLOR_RGB2GRAY)\n",
    "    th_img = cv2.adaptiveThreshold(gray_img, 255, cv2.ADAPTIVE_THRESH_GAUSSIAN_C, cv2.THRESH_BINARY, 11, 2)\n",
    "    return Image.fromarray(th_img)\n",
    "\n",
    "def apply_clahe_and_threshold(img):\n",
    "    img_yuv = cv2.cvtColor(np.array(img), cv2.COLOR_RGB2YUV)\n",
    "    img_clahe = img_yuv.copy()\n",
    "    clahe = cv2.createCLAHE(clipLimit=3.0, tileGridSize=(8,8))\n",
    "    img_clahe[:,:,0] = clahe.apply(img_clahe[:,:,0])\n",
    "    img_clahe = cv2.cvtColor(img_clahe, cv2.COLOR_YUV2BGR)\n",
    "\n",
    "    return apply_adaptive_threshold(img_clahe)\n",
    "\n",
    "# 이미지 변환 연결하기\n",
    "transform = transforms.Compose([\n",
    "    transforms.Resize((50, 50)), \n",
    "    transforms.Lambda(apply_clahe_and_threshold),  \n",
    "    transforms.ToTensor()  \n",
    "])\n",
    "\n",
    "# 이미지 폴더 데이터셋 불러오기\n",
    "data = ImageFolder(root=\"./add_data\", transform=transform)  # 데이터를 추가하였음\n",
    "data2 = ImageFolder(root=\"./data_test\", transform=transform)"
   ]
  },
  {
   "cell_type": "code",
   "execution_count": 74,
   "metadata": {},
   "outputs": [],
   "source": [
    "data_loader = DataLoader(data, batch_size=10, shuffle=True)\n",
    "test_loader = DataLoader(data2, batch_size=10, shuffle=True)"
   ]
  },
  {
   "cell_type": "code",
   "execution_count": 75,
   "metadata": {},
   "outputs": [
    {
     "name": "stdout",
     "output_type": "stream",
     "text": [
      "torch.Size([10, 1, 50, 50]) torch.Size([10])\n"
     ]
    }
   ],
   "source": [
    "images, labels = next(iter(data_loader))\n",
    "print(images.shape, labels.shape)"
   ]
  },
  {
   "cell_type": "code",
   "execution_count": 76,
   "metadata": {},
   "outputs": [],
   "source": [
    "class Mob_Dog(nn.Module):\n",
    "    def __init__(self):\n",
    "        super(Mob_Dog, self).__init__()\n",
    "        self.conv1 = nn.Conv2d(1, 6, 5)\n",
    "        self.pool = nn.MaxPool2d(2, 2)\n",
    "        self.conv2 = nn.Conv2d(6, 16, 5)\n",
    "        self.fc1 = nn.Linear(16 * 9 * 9, 120)\n",
    "        self.fc2 = nn.Linear(120, 84)\n",
    "        self.fc3 = nn.Linear(84, 2)\n",
    "        self.dropout = nn.Dropout(p=0.5)  # Dropout 추가\n",
    "        self.batchnorm1 = nn.BatchNorm2d(6)  # Batch Normalization 추가\n",
    "        self.batchnorm2 = nn.BatchNorm2d(16)  # Batch Normalization 추가\n",
    "        self.batchnorm3 = nn.BatchNorm1d(120)  # Batch Normalization 추가\n",
    "        self.batchnorm4 = nn.BatchNorm1d(84)  # Batch Normalization 추가\n",
    "        \n",
    "    def forward(self, x):\n",
    "        x = self.pool(F.relu(self.batchnorm1(self.conv1(x))))\n",
    "        x = self.pool(F.relu(self.batchnorm2(self.conv2(x))))  # Batch Normalization 추가\n",
    "        \n",
    "        x = x.view(-1, 16 * 9 * 9)\n",
    "        x = F.relu(self.batchnorm3(self.fc1(x)))  # Batch Normalization 추가\n",
    "        x = F.relu(self.batchnorm4(self.fc2(x)))  # Batch Normalization 추가\n",
    "        x = self.dropout(x)  # Dropout 추가\n",
    "        x = self.fc3(x)\n",
    "        return x\n"
   ]
  },
  {
   "cell_type": "code",
   "execution_count": 77,
   "metadata": {},
   "outputs": [],
   "source": [
    "# 모델 객체 생성, 옵티마이저 생성\n",
    "model = Mob_Dog()\n",
    "criterion = nn.CrossEntropyLoss()\n",
    "optimizer = optim.AdamW(model.parameters(), lr=0.001)"
   ]
  },
  {
   "cell_type": "code",
   "execution_count": 78,
   "metadata": {},
   "outputs": [],
   "source": [
    "def get_accuracy(loader, model):\n",
    "    total=0\n",
    "    correct=0\n",
    "    for data in loader:\n",
    "        images, labels = data\n",
    "        outputs = model(images)\n",
    "        _, predicted = torch.max(outputs.data, 1) \n",
    "        total += labels.size(0)\n",
    "        correct += (predicted == labels).sum().item()\n",
    "    return correct / total"
   ]
  },
  {
   "cell_type": "code",
   "execution_count": 79,
   "metadata": {},
   "outputs": [
    {
     "name": "stderr",
     "output_type": "stream",
     "text": [
      "c:\\Users\\mathn\\.conda\\envs\\Torch_PY38\\lib\\site-packages\\torch\\optim\\lr_scheduler.py:28: UserWarning: The verbose parameter is deprecated. Please use get_last_lr() to access the learning rate.\n",
      "  warnings.warn(\"The verbose parameter is deprecated. Please use get_last_lr() \"\n",
      "Epoch [1/10], 횟수 [40/43], Loss: 0.6720: 100%|██████████| 43/43 [00:01<00:00, 37.28it/s]\n"
     ]
    },
    {
     "name": "stdout",
     "output_type": "stream",
     "text": [
      "0 Epoch 종료 후 train_score : 79.14691943127961\n",
      "0 Epoch 종료 후 test_score : 59.78260869565217\n",
      "\n",
      "모델 갱신!(0.5978260869565217저장됌!!!!\n",
      "\n"
     ]
    },
    {
     "name": "stderr",
     "output_type": "stream",
     "text": [
      "Epoch [2/10], 횟수 [40/43], Loss: 0.4339: 100%|██████████| 43/43 [00:01<00:00, 41.57it/s]\n"
     ]
    },
    {
     "name": "stdout",
     "output_type": "stream",
     "text": [
      "1 Epoch 종료 후 train_score : 86.49289099526067\n",
      "1 Epoch 종료 후 test_score : 59.78260869565217\n"
     ]
    },
    {
     "name": "stderr",
     "output_type": "stream",
     "text": [
      "Epoch [3/10], 횟수 [40/43], Loss: 0.3496: 100%|██████████| 43/43 [00:00<00:00, 43.01it/s]\n"
     ]
    },
    {
     "name": "stdout",
     "output_type": "stream",
     "text": [
      "2 Epoch 종료 후 train_score : 96.2085308056872\n",
      "2 Epoch 종료 후 test_score : 58.69565217391305\n"
     ]
    },
    {
     "name": "stderr",
     "output_type": "stream",
     "text": [
      "Epoch [4/10], 횟수 [40/43], Loss: 0.1993: 100%|██████████| 43/43 [00:01<00:00, 41.90it/s]\n"
     ]
    },
    {
     "name": "stdout",
     "output_type": "stream",
     "text": [
      "3 Epoch 종료 후 train_score : 97.86729857819904\n",
      "3 Epoch 종료 후 test_score : 58.69565217391305\n"
     ]
    },
    {
     "name": "stderr",
     "output_type": "stream",
     "text": [
      "Epoch [5/10], 횟수 [40/43], Loss: 0.1016: 100%|██████████| 43/43 [00:01<00:00, 39.19it/s]\n"
     ]
    },
    {
     "name": "stdout",
     "output_type": "stream",
     "text": [
      "4 Epoch 종료 후 train_score : 97.86729857819904\n",
      "4 Epoch 종료 후 test_score : 67.3913043478261\n",
      "\n",
      "모델 갱신!(0.6739130434782609저장됌!!!!\n",
      "\n"
     ]
    },
    {
     "name": "stderr",
     "output_type": "stream",
     "text": [
      "Epoch [6/10], 횟수 [40/43], Loss: 0.0911: 100%|██████████| 43/43 [00:01<00:00, 41.65it/s]\n"
     ]
    },
    {
     "name": "stdout",
     "output_type": "stream",
     "text": [
      "5 Epoch 종료 후 train_score : 97.6303317535545\n",
      "5 Epoch 종료 후 test_score : 71.73913043478261\n",
      "\n",
      "모델 갱신!(0.717391304347826저장됌!!!!\n",
      "\n"
     ]
    },
    {
     "name": "stderr",
     "output_type": "stream",
     "text": [
      "Epoch [7/10], 횟수 [40/43], Loss: 0.0779: 100%|██████████| 43/43 [00:01<00:00, 41.66it/s]\n"
     ]
    },
    {
     "name": "stdout",
     "output_type": "stream",
     "text": [
      "6 Epoch 종료 후 train_score : 97.86729857819904\n",
      "6 Epoch 종료 후 test_score : 61.95652173913043\n"
     ]
    },
    {
     "name": "stderr",
     "output_type": "stream",
     "text": [
      "Epoch [8/10], 횟수 [40/43], Loss: 0.0602: 100%|██████████| 43/43 [00:01<00:00, 40.49it/s]\n"
     ]
    },
    {
     "name": "stdout",
     "output_type": "stream",
     "text": [
      "7 Epoch 종료 후 train_score : 97.39336492890996\n",
      "7 Epoch 종료 후 test_score : 59.78260869565217\n"
     ]
    },
    {
     "name": "stderr",
     "output_type": "stream",
     "text": [
      "Epoch [9/10], 횟수 [40/43], Loss: 0.0711: 100%|██████████| 43/43 [00:01<00:00, 37.28it/s]\n"
     ]
    },
    {
     "name": "stdout",
     "output_type": "stream",
     "text": [
      "8 Epoch 종료 후 train_score : 97.1563981042654\n",
      "8 Epoch 종료 후 test_score : 58.69565217391305\n"
     ]
    },
    {
     "name": "stderr",
     "output_type": "stream",
     "text": [
      "Epoch [10/10], 횟수 [40/43], Loss: 0.0698: 100%|██████████| 43/43 [00:01<00:00, 41.47it/s]\n"
     ]
    },
    {
     "name": "stdout",
     "output_type": "stream",
     "text": [
      "9 Epoch 종료 후 train_score : 97.86729857819904\n",
      "9 Epoch 종료 후 test_score : 66.30434782608695\n"
     ]
    },
    {
     "name": "stderr",
     "output_type": "stream",
     "text": [
      "Epoch [11/10], 횟수 [40/43], Loss: 0.3228: 100%|██████████| 43/43 [00:01<00:00, 39.11it/s]\n"
     ]
    },
    {
     "name": "stdout",
     "output_type": "stream",
     "text": [
      "10 Epoch 종료 후 train_score : 97.86729857819904\n",
      "10 Epoch 종료 후 test_score : 60.86956521739131\n"
     ]
    },
    {
     "name": "stderr",
     "output_type": "stream",
     "text": [
      "Epoch [12/10], 횟수 [40/43], Loss: 0.1923: 100%|██████████| 43/43 [00:01<00:00, 39.28it/s]\n"
     ]
    },
    {
     "name": "stdout",
     "output_type": "stream",
     "text": [
      "11 Epoch 종료 후 train_score : 98.10426540284361\n",
      "11 Epoch 종료 후 test_score : 59.78260869565217\n"
     ]
    },
    {
     "name": "stderr",
     "output_type": "stream",
     "text": [
      "Epoch [13/10], 횟수 [40/43], Loss: 0.1193: 100%|██████████| 43/43 [00:01<00:00, 41.17it/s]\n"
     ]
    },
    {
     "name": "stdout",
     "output_type": "stream",
     "text": [
      "12 Epoch 종료 후 train_score : 99.0521327014218\n",
      "12 Epoch 종료 후 test_score : 61.95652173913043\n"
     ]
    },
    {
     "name": "stderr",
     "output_type": "stream",
     "text": [
      "Epoch [14/10], 횟수 [40/43], Loss: 0.0545: 100%|██████████| 43/43 [00:01<00:00, 42.43it/s]\n"
     ]
    },
    {
     "name": "stdout",
     "output_type": "stream",
     "text": [
      "13 Epoch 종료 후 train_score : 96.44549763033176\n",
      "13 Epoch 종료 후 test_score : 63.04347826086957\n"
     ]
    },
    {
     "name": "stderr",
     "output_type": "stream",
     "text": [
      "Epoch [15/10], 횟수 [40/43], Loss: 0.0641: 100%|██████████| 43/43 [00:01<00:00, 40.96it/s]\n"
     ]
    },
    {
     "name": "stdout",
     "output_type": "stream",
     "text": [
      "14 Epoch 종료 후 train_score : 96.44549763033176\n",
      "14 Epoch 종료 후 test_score : 67.3913043478261\n"
     ]
    },
    {
     "name": "stderr",
     "output_type": "stream",
     "text": [
      "Epoch [16/10], 횟수 [40/43], Loss: 0.0493: 100%|██████████| 43/43 [00:01<00:00, 37.14it/s]\n"
     ]
    },
    {
     "name": "stdout",
     "output_type": "stream",
     "text": [
      "15 Epoch 종료 후 train_score : 99.0521327014218\n",
      "15 Epoch 종료 후 test_score : 58.69565217391305\n"
     ]
    },
    {
     "name": "stderr",
     "output_type": "stream",
     "text": [
      "Epoch [17/10], 횟수 [40/43], Loss: 0.2384: 100%|██████████| 43/43 [00:01<00:00, 38.60it/s]\n"
     ]
    },
    {
     "name": "stdout",
     "output_type": "stream",
     "text": [
      "16 Epoch 종료 후 train_score : 97.86729857819904\n",
      "16 Epoch 종료 후 test_score : 60.86956521739131\n"
     ]
    },
    {
     "name": "stderr",
     "output_type": "stream",
     "text": [
      "Epoch [18/10], 횟수 [40/43], Loss: 0.0419: 100%|██████████| 43/43 [00:01<00:00, 37.32it/s]\n"
     ]
    },
    {
     "name": "stdout",
     "output_type": "stream",
     "text": [
      "17 Epoch 종료 후 train_score : 98.10426540284361\n",
      "17 Epoch 종료 후 test_score : 69.56521739130434\n"
     ]
    },
    {
     "name": "stderr",
     "output_type": "stream",
     "text": [
      "Epoch [19/10], 횟수 [40/43], Loss: 0.0744: 100%|██████████| 43/43 [00:01<00:00, 38.01it/s]\n"
     ]
    },
    {
     "name": "stdout",
     "output_type": "stream",
     "text": [
      "18 Epoch 종료 후 train_score : 99.28909952606635\n",
      "18 Epoch 종료 후 test_score : 61.95652173913043\n"
     ]
    },
    {
     "name": "stderr",
     "output_type": "stream",
     "text": [
      "Epoch [20/10], 횟수 [40/43], Loss: 0.0807: 100%|██████████| 43/43 [00:01<00:00, 37.20it/s]\n"
     ]
    },
    {
     "name": "stdout",
     "output_type": "stream",
     "text": [
      "19 Epoch 종료 후 train_score : 99.0521327014218\n",
      "19 Epoch 종료 후 test_score : 64.13043478260869\n"
     ]
    },
    {
     "name": "stderr",
     "output_type": "stream",
     "text": [
      "Epoch [21/10], 횟수 [40/43], Loss: 0.0330: 100%|██████████| 43/43 [00:01<00:00, 37.32it/s]\n"
     ]
    },
    {
     "name": "stdout",
     "output_type": "stream",
     "text": [
      "20 Epoch 종료 후 train_score : 99.0521327014218\n",
      "20 Epoch 종료 후 test_score : 57.608695652173914\n"
     ]
    },
    {
     "name": "stderr",
     "output_type": "stream",
     "text": [
      "Epoch [22/10], 횟수 [40/43], Loss: 0.0491: 100%|██████████| 43/43 [00:01<00:00, 36.45it/s]\n"
     ]
    },
    {
     "name": "stdout",
     "output_type": "stream",
     "text": [
      "21 Epoch 종료 후 train_score : 98.81516587677726\n",
      "21 Epoch 종료 후 test_score : 63.04347826086957\n"
     ]
    },
    {
     "name": "stderr",
     "output_type": "stream",
     "text": [
      "Epoch [23/10], 횟수 [40/43], Loss: 0.0232: 100%|██████████| 43/43 [00:01<00:00, 36.83it/s]\n"
     ]
    },
    {
     "name": "stdout",
     "output_type": "stream",
     "text": [
      "22 Epoch 종료 후 train_score : 97.86729857819904\n",
      "22 Epoch 종료 후 test_score : 59.78260869565217\n"
     ]
    },
    {
     "name": "stderr",
     "output_type": "stream",
     "text": [
      "Epoch [24/10], 횟수 [40/43], Loss: 0.0423: 100%|██████████| 43/43 [00:01<00:00, 35.72it/s]\n"
     ]
    },
    {
     "name": "stdout",
     "output_type": "stream",
     "text": [
      "23 Epoch 종료 후 train_score : 99.0521327014218\n",
      "23 Epoch 종료 후 test_score : 60.86956521739131\n"
     ]
    },
    {
     "name": "stderr",
     "output_type": "stream",
     "text": [
      "Epoch [25/10], 횟수 [40/43], Loss: 0.0323: 100%|██████████| 43/43 [00:01<00:00, 37.23it/s]\n"
     ]
    },
    {
     "name": "stdout",
     "output_type": "stream",
     "text": [
      "24 Epoch 종료 후 train_score : 98.5781990521327\n",
      "24 Epoch 종료 후 test_score : 65.21739130434783\n"
     ]
    },
    {
     "name": "stderr",
     "output_type": "stream",
     "text": [
      "Epoch [26/10], 횟수 [40/43], Loss: 0.2339: 100%|██████████| 43/43 [00:01<00:00, 37.24it/s]\n"
     ]
    },
    {
     "name": "stdout",
     "output_type": "stream",
     "text": [
      "25 Epoch 종료 후 train_score : 93.8388625592417\n",
      "25 Epoch 종료 후 test_score : 59.78260869565217\n"
     ]
    },
    {
     "name": "stderr",
     "output_type": "stream",
     "text": [
      "Epoch [27/10], 횟수 [40/43], Loss: 0.2354: 100%|██████████| 43/43 [00:01<00:00, 36.98it/s]\n"
     ]
    },
    {
     "name": "stdout",
     "output_type": "stream",
     "text": [
      "26 Epoch 종료 후 train_score : 97.1563981042654\n",
      "26 Epoch 종료 후 test_score : 56.52173913043478\n"
     ]
    },
    {
     "name": "stderr",
     "output_type": "stream",
     "text": [
      "Epoch [28/10], 횟수 [40/43], Loss: 0.0345: 100%|██████████| 43/43 [00:01<00:00, 36.92it/s]\n"
     ]
    },
    {
     "name": "stdout",
     "output_type": "stream",
     "text": [
      "27 Epoch 종료 후 train_score : 98.10426540284361\n",
      "27 Epoch 종료 후 test_score : 59.78260869565217\n"
     ]
    },
    {
     "name": "stderr",
     "output_type": "stream",
     "text": [
      "Epoch [29/10], 횟수 [40/43], Loss: 0.0667: 100%|██████████| 43/43 [00:01<00:00, 36.88it/s]\n"
     ]
    },
    {
     "name": "stdout",
     "output_type": "stream",
     "text": [
      "28 Epoch 종료 후 train_score : 98.34123222748815\n",
      "28 Epoch 종료 후 test_score : 54.347826086956516\n"
     ]
    },
    {
     "name": "stderr",
     "output_type": "stream",
     "text": [
      "Epoch [30/10], 횟수 [40/43], Loss: 0.1021: 100%|██████████| 43/43 [00:01<00:00, 37.07it/s]\n"
     ]
    },
    {
     "name": "stdout",
     "output_type": "stream",
     "text": [
      "29 Epoch 종료 후 train_score : 97.86729857819904\n",
      "29 Epoch 종료 후 test_score : 64.13043478260869\n"
     ]
    },
    {
     "name": "stderr",
     "output_type": "stream",
     "text": [
      "Epoch [31/10], 횟수 [40/43], Loss: 0.0331: 100%|██████████| 43/43 [00:01<00:00, 35.15it/s]\n"
     ]
    },
    {
     "name": "stdout",
     "output_type": "stream",
     "text": [
      "30 Epoch 종료 후 train_score : 99.0521327014218\n",
      "30 Epoch 종료 후 test_score : 61.95652173913043\n"
     ]
    },
    {
     "name": "stderr",
     "output_type": "stream",
     "text": [
      "Epoch [32/10], 횟수 [40/43], Loss: 0.0583: 100%|██████████| 43/43 [00:01<00:00, 36.99it/s]\n"
     ]
    },
    {
     "name": "stdout",
     "output_type": "stream",
     "text": [
      "31 Epoch 종료 후 train_score : 99.0521327014218\n",
      "31 Epoch 종료 후 test_score : 67.3913043478261\n"
     ]
    },
    {
     "name": "stderr",
     "output_type": "stream",
     "text": [
      "Epoch [33/10], 횟수 [40/43], Loss: 0.0544: 100%|██████████| 43/43 [00:01<00:00, 37.09it/s]\n"
     ]
    },
    {
     "name": "stdout",
     "output_type": "stream",
     "text": [
      "32 Epoch 종료 후 train_score : 98.10426540284361\n",
      "32 Epoch 종료 후 test_score : 61.95652173913043\n"
     ]
    },
    {
     "name": "stderr",
     "output_type": "stream",
     "text": [
      "Epoch [34/10], 횟수 [40/43], Loss: 0.0214: 100%|██████████| 43/43 [00:01<00:00, 36.56it/s]\n"
     ]
    },
    {
     "name": "stdout",
     "output_type": "stream",
     "text": [
      "33 Epoch 종료 후 train_score : 98.81516587677726\n",
      "33 Epoch 종료 후 test_score : 65.21739130434783\n"
     ]
    },
    {
     "name": "stderr",
     "output_type": "stream",
     "text": [
      "Epoch [35/10], 횟수 [40/43], Loss: 0.0323: 100%|██████████| 43/43 [00:01<00:00, 36.46it/s]\n"
     ]
    },
    {
     "name": "stdout",
     "output_type": "stream",
     "text": [
      "34 Epoch 종료 후 train_score : 98.10426540284361\n",
      "34 Epoch 종료 후 test_score : 65.21739130434783\n"
     ]
    },
    {
     "name": "stderr",
     "output_type": "stream",
     "text": [
      "Epoch [36/10], 횟수 [40/43], Loss: 0.0724: 100%|██████████| 43/43 [00:01<00:00, 36.93it/s]\n"
     ]
    },
    {
     "name": "stdout",
     "output_type": "stream",
     "text": [
      "35 Epoch 종료 후 train_score : 98.34123222748815\n",
      "35 Epoch 종료 후 test_score : 59.78260869565217\n"
     ]
    },
    {
     "name": "stderr",
     "output_type": "stream",
     "text": [
      "Epoch [37/10], 횟수 [40/43], Loss: 0.0258: 100%|██████████| 43/43 [00:01<00:00, 37.37it/s]\n"
     ]
    },
    {
     "name": "stdout",
     "output_type": "stream",
     "text": [
      "36 Epoch 종료 후 train_score : 99.0521327014218\n",
      "36 Epoch 종료 후 test_score : 63.04347826086957\n"
     ]
    },
    {
     "name": "stderr",
     "output_type": "stream",
     "text": [
      "Epoch [38/10], 횟수 [40/43], Loss: 0.0166: 100%|██████████| 43/43 [00:01<00:00, 35.64it/s]\n"
     ]
    },
    {
     "name": "stdout",
     "output_type": "stream",
     "text": [
      "37 Epoch 종료 후 train_score : 98.5781990521327\n",
      "37 Epoch 종료 후 test_score : 65.21739130434783\n"
     ]
    },
    {
     "name": "stderr",
     "output_type": "stream",
     "text": [
      "Epoch [39/10], 횟수 [40/43], Loss: 0.0153: 100%|██████████| 43/43 [00:01<00:00, 37.21it/s]\n"
     ]
    },
    {
     "name": "stdout",
     "output_type": "stream",
     "text": [
      "38 Epoch 종료 후 train_score : 96.2085308056872\n",
      "38 Epoch 종료 후 test_score : 68.47826086956522\n"
     ]
    },
    {
     "name": "stderr",
     "output_type": "stream",
     "text": [
      "Epoch [40/10], 횟수 [40/43], Loss: 0.0271: 100%|██████████| 43/43 [00:01<00:00, 37.36it/s]\n"
     ]
    },
    {
     "name": "stdout",
     "output_type": "stream",
     "text": [
      "39 Epoch 종료 후 train_score : 98.5781990521327\n",
      "39 Epoch 종료 후 test_score : 66.30434782608695\n"
     ]
    },
    {
     "name": "stderr",
     "output_type": "stream",
     "text": [
      "Epoch [41/10], 횟수 [40/43], Loss: 0.0414: 100%|██████████| 43/43 [00:01<00:00, 36.75it/s]\n"
     ]
    },
    {
     "name": "stdout",
     "output_type": "stream",
     "text": [
      "40 Epoch 종료 후 train_score : 98.10426540284361\n",
      "40 Epoch 종료 후 test_score : 63.04347826086957\n"
     ]
    },
    {
     "name": "stderr",
     "output_type": "stream",
     "text": [
      "Epoch [42/10], 횟수 [40/43], Loss: 0.0320: 100%|██████████| 43/43 [00:01<00:00, 37.05it/s]\n"
     ]
    },
    {
     "name": "stdout",
     "output_type": "stream",
     "text": [
      "41 Epoch 종료 후 train_score : 99.52606635071089\n",
      "41 Epoch 종료 후 test_score : 67.3913043478261\n"
     ]
    },
    {
     "name": "stderr",
     "output_type": "stream",
     "text": [
      "Epoch [43/10], 횟수 [40/43], Loss: 0.0133: 100%|██████████| 43/43 [00:01<00:00, 37.08it/s]\n"
     ]
    },
    {
     "name": "stdout",
     "output_type": "stream",
     "text": [
      "42 Epoch 종료 후 train_score : 99.0521327014218\n",
      "42 Epoch 종료 후 test_score : 64.13043478260869\n"
     ]
    },
    {
     "name": "stderr",
     "output_type": "stream",
     "text": [
      "Epoch [44/10], 횟수 [40/43], Loss: 0.0354: 100%|██████████| 43/43 [00:01<00:00, 37.07it/s]\n"
     ]
    },
    {
     "name": "stdout",
     "output_type": "stream",
     "text": [
      "43 Epoch 종료 후 train_score : 99.0521327014218\n",
      "43 Epoch 종료 후 test_score : 64.13043478260869\n"
     ]
    },
    {
     "name": "stderr",
     "output_type": "stream",
     "text": [
      "Epoch [45/10], 횟수 [40/43], Loss: 0.0286: 100%|██████████| 43/43 [00:01<00:00, 35.72it/s]\n"
     ]
    },
    {
     "name": "stdout",
     "output_type": "stream",
     "text": [
      "44 Epoch 종료 후 train_score : 98.5781990521327\n",
      "44 Epoch 종료 후 test_score : 65.21739130434783\n"
     ]
    },
    {
     "name": "stderr",
     "output_type": "stream",
     "text": [
      "Epoch [46/10], 횟수 [40/43], Loss: 0.0170: 100%|██████████| 43/43 [00:01<00:00, 36.38it/s]\n"
     ]
    },
    {
     "name": "stdout",
     "output_type": "stream",
     "text": [
      "45 Epoch 종료 후 train_score : 98.81516587677726\n",
      "45 Epoch 종료 후 test_score : 75.0\n",
      "\n",
      "모델 갱신!(0.75저장됌!!!!\n",
      "\n"
     ]
    },
    {
     "name": "stderr",
     "output_type": "stream",
     "text": [
      "Epoch [47/10], 횟수 [40/43], Loss: 0.0671: 100%|██████████| 43/43 [00:01<00:00, 36.44it/s]\n"
     ]
    },
    {
     "name": "stdout",
     "output_type": "stream",
     "text": [
      "46 Epoch 종료 후 train_score : 98.81516587677726\n",
      "46 Epoch 종료 후 test_score : 63.04347826086957\n"
     ]
    },
    {
     "name": "stderr",
     "output_type": "stream",
     "text": [
      "Epoch [48/10], 횟수 [40/43], Loss: 0.0903: 100%|██████████| 43/43 [00:01<00:00, 37.10it/s]\n"
     ]
    },
    {
     "name": "stdout",
     "output_type": "stream",
     "text": [
      "47 Epoch 종료 후 train_score : 95.97156398104265\n",
      "47 Epoch 종료 후 test_score : 58.69565217391305\n"
     ]
    },
    {
     "name": "stderr",
     "output_type": "stream",
     "text": [
      "Epoch [49/10], 횟수 [40/43], Loss: 0.0247: 100%|██████████| 43/43 [00:01<00:00, 36.45it/s]\n"
     ]
    },
    {
     "name": "stdout",
     "output_type": "stream",
     "text": [
      "48 Epoch 종료 후 train_score : 97.86729857819904\n",
      "48 Epoch 종료 후 test_score : 57.608695652173914\n"
     ]
    },
    {
     "name": "stderr",
     "output_type": "stream",
     "text": [
      "Epoch [50/10], 횟수 [40/43], Loss: 0.0146: 100%|██████████| 43/43 [00:01<00:00, 35.68it/s]\n"
     ]
    },
    {
     "name": "stdout",
     "output_type": "stream",
     "text": [
      "49 Epoch 종료 후 train_score : 98.34123222748815\n",
      "49 Epoch 종료 후 test_score : 60.86956521739131\n"
     ]
    },
    {
     "name": "stderr",
     "output_type": "stream",
     "text": [
      "Epoch [51/10], 횟수 [40/43], Loss: 0.0626: 100%|██████████| 43/43 [00:01<00:00, 36.91it/s]\n"
     ]
    },
    {
     "name": "stdout",
     "output_type": "stream",
     "text": [
      "50 Epoch 종료 후 train_score : 99.28909952606635\n",
      "50 Epoch 종료 후 test_score : 66.30434782608695\n"
     ]
    },
    {
     "name": "stderr",
     "output_type": "stream",
     "text": [
      "Epoch [52/10], 횟수 [40/43], Loss: 0.0063: 100%|██████████| 43/43 [00:01<00:00, 36.90it/s]\n"
     ]
    },
    {
     "name": "stdout",
     "output_type": "stream",
     "text": [
      "51 Epoch 종료 후 train_score : 99.52606635071089\n",
      "51 Epoch 종료 후 test_score : 58.69565217391305\n"
     ]
    },
    {
     "name": "stderr",
     "output_type": "stream",
     "text": [
      "Epoch [53/10], 횟수 [40/43], Loss: 0.0228: 100%|██████████| 43/43 [00:01<00:00, 37.25it/s]\n"
     ]
    },
    {
     "name": "stdout",
     "output_type": "stream",
     "text": [
      "52 Epoch 종료 후 train_score : 98.10426540284361\n",
      "52 Epoch 종료 후 test_score : 60.86956521739131\n"
     ]
    },
    {
     "name": "stderr",
     "output_type": "stream",
     "text": [
      "Epoch [54/10], 횟수 [40/43], Loss: 0.0765: 100%|██████████| 43/43 [00:01<00:00, 36.81it/s]\n"
     ]
    },
    {
     "name": "stdout",
     "output_type": "stream",
     "text": [
      "53 Epoch 종료 후 train_score : 97.6303317535545\n",
      "53 Epoch 종료 후 test_score : 63.04347826086957\n"
     ]
    },
    {
     "name": "stderr",
     "output_type": "stream",
     "text": [
      "Epoch [55/10], 횟수 [40/43], Loss: 0.0418: 100%|██████████| 43/43 [00:01<00:00, 36.65it/s]\n"
     ]
    },
    {
     "name": "stdout",
     "output_type": "stream",
     "text": [
      "54 Epoch 종료 후 train_score : 98.34123222748815\n",
      "54 Epoch 종료 후 test_score : 67.3913043478261\n"
     ]
    },
    {
     "name": "stderr",
     "output_type": "stream",
     "text": [
      "Epoch [56/10], 횟수 [40/43], Loss: 0.0210: 100%|██████████| 43/43 [00:01<00:00, 35.30it/s]\n"
     ]
    },
    {
     "name": "stdout",
     "output_type": "stream",
     "text": [
      "55 Epoch 종료 후 train_score : 99.0521327014218\n",
      "55 Epoch 종료 후 test_score : 59.78260869565217\n"
     ]
    },
    {
     "name": "stderr",
     "output_type": "stream",
     "text": [
      "Epoch [57/10], 횟수 [40/43], Loss: 0.0440: 100%|██████████| 43/43 [00:01<00:00, 36.77it/s]\n"
     ]
    },
    {
     "name": "stdout",
     "output_type": "stream",
     "text": [
      "56 Epoch 종료 후 train_score : 99.28909952606635\n",
      "56 Epoch 종료 후 test_score : 61.95652173913043\n"
     ]
    },
    {
     "name": "stderr",
     "output_type": "stream",
     "text": [
      "Epoch [58/10], 횟수 [40/43], Loss: 0.0976: 100%|██████████| 43/43 [00:01<00:00, 37.29it/s]\n"
     ]
    },
    {
     "name": "stdout",
     "output_type": "stream",
     "text": [
      "57 Epoch 종료 후 train_score : 97.6303317535545\n",
      "57 Epoch 종료 후 test_score : 66.30434782608695\n"
     ]
    },
    {
     "name": "stderr",
     "output_type": "stream",
     "text": [
      "Epoch [59/10], 횟수 [40/43], Loss: 0.0295: 100%|██████████| 43/43 [00:01<00:00, 37.33it/s]\n"
     ]
    },
    {
     "name": "stdout",
     "output_type": "stream",
     "text": [
      "58 Epoch 종료 후 train_score : 100.0\n",
      "58 Epoch 종료 후 test_score : 69.56521739130434\n",
      "Early Stopping at : 58 Epoch\n"
     ]
    }
   ],
   "source": [
    "from tqdm import tqdm # 프로그레스 바 생성\n",
    "from torch.optim.lr_scheduler import ReduceLROnPlateau \n",
    "scheduler = ReduceLROnPlateau(optimizer, 'min', patience=15, verbose=True)\n",
    "\n",
    "loss_list=[]\n",
    "tas_list=[]\n",
    "tes_list=[]\n",
    "max=0\n",
    "for epoch in range(100): # 10회 반복 \n",
    "    running_loss = 0.0 # 1 epoch당 누적 로스값 \n",
    "    #==================================================================================\n",
    "    pbar = tqdm(enumerate(data_loader), total=len(data_loader)) \n",
    "    for i, data in pbar: # pbar가 데이터 로더 역할 수행\n",
    "        inputs, labels = data\n",
    "        outputs = model(inputs)\n",
    "        loss = criterion(outputs, labels)\n",
    "        optimizer.zero_grad()\n",
    "        loss.backward()\n",
    "        optimizer.step()\n",
    "        \n",
    "        running_loss += loss.item() # 로스 누적 \n",
    "        if i % 10 == 9:\n",
    "            pbar.set_description(f'Epoch [{epoch + 1}/{10}], 횟수 [{i + 1}/{len(data_loader)}], Loss: {running_loss / 10:.4f}')\n",
    "            loss_list.append(running_loss)\n",
    "            running_loss = 0.0\n",
    "    #==================================================================================   \n",
    "    # 모델 평가\n",
    "\n",
    "    with torch.no_grad():\n",
    "        train_accuracy = get_accuracy(data_loader, model)\n",
    "        test_accuracy = get_accuracy(test_loader, model)\n",
    "    print(f'{epoch} Epoch 종료 후 train_score : {(100 * train_accuracy)}')\n",
    "    print(f'{epoch} Epoch 종료 후 test_score : {(100 * test_accuracy)}')\n",
    "    tas_list.append(train_accuracy)\n",
    "    tes_list.append(test_accuracy)\n",
    "    if max < test_accuracy:\n",
    "        max = test_accuracy\n",
    "        torch.save(model, 'model.pth')\n",
    "        print(f\"\\n모델 갱신! [[{test_accuracy}]] 저장됌!!!!\\n＼북-적／＼북-적／\\nʕ•̫͡•ʕ•̫͡•ʔ•̫͡•ʔ•̫͡•ʕ•̫͡•ʔ•̫͡•ʔ\")\n",
    "    \n",
    "    scheduler.step(loss)\n",
    "    if scheduler.num_bad_epochs >= scheduler.patience:\n",
    "        print(f\"Early Stopping at : {epoch} Epoch\")\n",
    "        break"
   ]
  },
  {
   "cell_type": "code",
   "execution_count": 84,
   "metadata": {},
   "outputs": [
    {
     "data": {
      "text/plain": [
       "<function matplotlib.pyplot.ylabel(ylabel, fontdict=None, labelpad=None, *, loc=None, **kwargs)>"
      ]
     },
     "execution_count": 84,
     "metadata": {},
     "output_type": "execute_result"
    },
    {
     "data": {
      "image/png": "[encoded data removed]",
      "text/plain": [
       "<Figure size 640x480 with 1 Axes>"
      ]
     },
     "metadata": {},
     "output_type": "display_data"
    }
   ],
   "source": [
    "import matplotlib.pyplot as plt\n",
    "\n",
    "#plt.plot(loss_list)\n",
    "plt.plot(tas_list, label=\"train\")\n",
    "plt.plot(tes_list, label=\"test\")\n",
    "plt.plot(np.array(tas_list)-np.array(tes_list), label=\"diff\")\n",
    "plt.grid(True)\n",
    "plt.legend()\n",
    "plt.ylabel"
   ]
  },
  {
   "cell_type": "code",
   "execution_count": 81,
   "metadata": {},
   "outputs": [],
   "source": [
    "# 확실히 높아진 성능을 자랑한다...."
   ]
  },
  {
   "cell_type": "code",
   "execution_count": 136,
   "metadata": {},
   "outputs": [
    {
     "name": "stdout",
     "output_type": "stream",
     "text": [
      "train_acc : 1.00, test_acc : 0.70\n",
      "1.00 확률로 강쥐!!!입니다!\n",
      "0.93 확률로 부직포입니다!\n",
      "1.00 확률로 부직포입니다!\n",
      "0.93 확률로 부직포입니다!\n",
      "0.89 확률로 부직포입니다!\n",
      "1.00 확률로 부직포입니다!\n",
      "0.99 확률로 부직포입니다!\n",
      "0.75 확률로 강쥐!!!입니다!\n",
      "0.86 확률로 강쥐!!!입니다!\n",
      "1.00 확률로 부직포입니다!\n",
      "0.85 확률로 부직포입니다!\n",
      "1.00 확률로 부직포입니다!\n",
      "1.00 확률로 강쥐!!!입니다!\n",
      "0.94 확률로 강쥐!!!입니다!\n",
      "0.92 확률로 강쥐!!!입니다!\n",
      "1.00 확률로 부직포입니다!\n",
      "0.70 확률로 부직포입니다!\n",
      "0.99 확률로 강쥐!!!입니다!\n",
      "0.85 확률로 부직포입니다!\n",
      "0.84 확률로 강쥐!!!입니다!\n",
      "1.00 확률로 부직포입니다!\n",
      "1.00 확률로 부직포입니다!\n",
      "1.00 확률로 부직포입니다!\n",
      "0.96 확률로 부직포입니다!\n",
      "1.00 확률로 부직포입니다!\n",
      "0.67 확률로 부직포입니다!\n",
      "0.80 확률로 강쥐!!!입니다!\n",
      "0.86 확률로 부직포입니다!\n",
      "0.99 확률로 부직포입니다!\n",
      "0.54 확률로 부직포입니다!\n",
      "1.00 확률로 부직포입니다!\n",
      "0.81 확률로 부직포입니다!\n",
      "0.56 확률로 부직포입니다!\n",
      "1.00 확률로 부직포입니다!\n",
      "1.00 확률로 부직포입니다!\n",
      "0.95 확률로 강쥐!!!입니다!\n",
      "1.00 확률로 부직포입니다!\n",
      "0.70 확률로 부직포입니다!\n",
      "0.97 확률로 부직포입니다!\n",
      "1.00 확률로 강쥐!!!입니다!\n",
      "0.97 확률로 강쥐!!!입니다!\n",
      "0.87 확률로 강쥐!!!입니다!\n",
      "0.98 확률로 강쥐!!!입니다!\n",
      "1.00 확률로 강쥐!!!입니다!\n",
      "0.99 확률로 부직포입니다!\n",
      "1.00 확률로 강쥐!!!입니다!\n",
      "0.99 확률로 강쥐!!!입니다!\n",
      "0.82 확률로 강쥐!!!입니다!\n",
      "0.86 확률로 부직포입니다!\n",
      "0.93 확률로 강쥐!!!입니다!\n",
      "1.00 확률로 강쥐!!!입니다!\n",
      "0.60 확률로 부직포입니다!\n",
      "1.00 확률로 부직포입니다!\n",
      "0.59 확률로 강쥐!!!입니다!\n",
      "1.00 확률로 강쥐!!!입니다!\n",
      "0.80 확률로 강쥐!!!입니다!\n",
      "1.00 확률로 부직포입니다!\n",
      "0.91 확률로 강쥐!!!입니다!\n",
      "0.99 확률로 강쥐!!!입니다!\n",
      "0.97 확률로 부직포입니다!\n",
      "0.67 확률로 부직포입니다!\n",
      "0.80 확률로 강쥐!!!입니다!\n",
      "1.00 확률로 강쥐!!!입니다!\n",
      "0.92 확률로 부직포입니다!\n",
      "0.81 확률로 강쥐!!!입니다!\n",
      "0.96 확률로 강쥐!!!입니다!\n",
      "0.95 확률로 강쥐!!!입니다!\n",
      "0.94 확률로 강쥐!!!입니다!\n",
      "0.96 확률로 강쥐!!!입니다!\n",
      "0.88 확률로 강쥐!!!입니다!\n",
      "1.00 확률로 강쥐!!!입니다!\n",
      "1.00 확률로 강쥐!!!입니다!\n",
      "0.64 확률로 강쥐!!!입니다!\n",
      "0.92 확률로 강쥐!!!입니다!\n",
      "0.73 확률로 강쥐!!!입니다!\n",
      "1.00 확률로 강쥐!!!입니다!\n",
      "1.00 확률로 강쥐!!!입니다!\n",
      "0.99 확률로 부직포입니다!\n",
      "0.68 확률로 강쥐!!!입니다!\n",
      "0.92 확률로 강쥐!!!입니다!\n",
      "0.75 확률로 부직포입니다!\n",
      "1.00 확률로 부직포입니다!\n",
      "0.97 확률로 강쥐!!!입니다!\n",
      "0.95 확률로 강쥐!!!입니다!\n",
      "0.99 확률로 강쥐!!!입니다!\n",
      "1.00 확률로 부직포입니다!\n",
      "0.93 확률로 강쥐!!!입니다!\n",
      "1.00 확률로 강쥐!!!입니다!\n",
      "0.54 확률로 부직포입니다!\n",
      "0.86 확률로 강쥐!!!입니다!\n",
      "1.00 확률로 강쥐!!!입니다!\n",
      "1.00 확률로 강쥐!!!입니다!\n"
     ]
    }
   ],
   "source": [
    "from torchvision.transforms.functional import to_pil_image\n",
    "model = Mob_Dog()\n",
    "model = torch.load('model.pth')\n",
    "model.eval()\n",
    "\n",
    "train_accuracy = get_accuracy(data_loader, model) # 모델 검증 \n",
    "test_accuracy = get_accuracy(test_loader, model)\n",
    "print(f\"train_acc : {train_accuracy:.2f}, test_acc : {test_accuracy:.2f}\")\n",
    "\n",
    "\n",
    "for i in np.array(data2.imgs)[:, 0]:\n",
    "    img = cv2.imread(i)\n",
    "    img_pil = to_pil_image(img)  # PIL 이미지로 변환\n",
    "    \n",
    "    transformed_img = transform(img_pil)  # 변환 적용\n",
    "    transformed_img = transformed_img.unsqueeze(0)  # 배치 차원 추가\n",
    "    \n",
    "    with torch.no_grad():\n",
    "        output = model(transformed_img)\n",
    "        _, predicted = torch.max(torch.softmax(output, dim=1).data, 1)\n",
    "        print(f\"{torch.softmax(output, dim=1).data[0][predicted].item():.2f} 확률로 {'강쥐!!!' if predicted.item() else '부직포'}입니다!\")\n"
   ]
  },
  {
   "cell_type": "code",
   "execution_count": 83,
   "metadata": {},
   "outputs": [],
   "source": [
    "# 어느정도 만족한다....사람눈으로 봐도 구별하기 좀 힘들어보인다!\n",
    "# 이제 예측 모델을 만들어보자! "
   ]
  }
 ],
 "metadata": {
  "kernelspec": {
   "display_name": "Torch_PY38",
   "language": "python",
   "name": "python3"
  },
  "language_info": {
   "codemirror_mode": {
    "name": "ipython",
    "version": 3
   },
   "file_extension": ".py",
   "mimetype": "text/x-python",
   "name": "python",
   "nbconvert_exporter": "python",
   "pygments_lexer": "ipython3",
   "version": "3.8.18"
  }
 },
 "nbformat": 4,
 "nbformat_minor": 2
}
